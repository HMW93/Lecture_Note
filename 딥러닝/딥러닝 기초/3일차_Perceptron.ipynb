{
  "nbformat": 4,
  "nbformat_minor": 0,
  "metadata": {
    "colab": {
      "name": "3일차 Perceptron.ipynb",
      "provenance": [],
      "collapsed_sections": []
    },
    "kernelspec": {
      "name": "python3",
      "display_name": "Python 3"
    },
    "accelerator": "GPU"
  },
  "cells": [
    {
      "cell_type": "markdown",
      "metadata": {
        "id": "0dTHmBeuSrfD"
      },
      "source": [
        "#### Numpy로 퍼셉트론을 구현해보자.\n",
        "\n",
        "*   퍼셉트론으로 AND, NAND, OR 연산 구현해보도록 합니다.\n",
        "*   다층 퍼셉트론으로 XOR 연산 구현해보도록 합니다.\n",
        "*   본 코드는 '밑바닥부터 시작하는 딥러닝' 2장 예제 코드 입니다.\n"
      ]
    },
    {
      "cell_type": "code",
      "metadata": {
        "id": "1Qe0Yb5JSpzV"
      },
      "source": [
        "import numpy as np #numpy : Numerical python 선형대수학적 처리. as 별명"
      ],
      "execution_count": null,
      "outputs": []
    },
    {
      "cell_type": "markdown",
      "metadata": {
        "id": "4UY3OV09Sw1U"
      },
      "source": [
        "## AND 연산 퍼셉트론 구현"
      ]
    },
    {
      "cell_type": "code",
      "metadata": {
        "colab": {
          "base_uri": "https://localhost:8080/"
        },
        "id": "8GGb3ZUWSv3t",
        "outputId": "29601d48-1a1b-4014-ff52-2ee0b5d92909"
      },
      "source": [
        "def AND(x1, x2):\n",
        "    x = np.array([x1, x2])\n",
        "    w = np.array([0.5, 0.5]) #초기값 설정.\n",
        "    b = -0.7 #절편 : -0.7\n",
        "    tmp =  np.sum(w * x) + b # y = sum((w^T*X)+b)\n",
        "    if tmp <= 0: #tmp가 0보다 작거나 같으면 이 조건문 에 걸림\n",
        "        return 0 #반환값을 0\n",
        "    else: #tmp >0 :else에 작동\n",
        "        return 1 #반환값을 1로 주세요.\n",
        " \n",
        "data = []  #data는 빈칸으로 만들어 놓고.  \n",
        "for xs in [(0, 0), (1, 0), (0, 1), (1, 1)]:\n",
        "    data.append(xs)\n",
        "    print(data[0])\n",
        "    y = AND(xs[0], xs[1])\n",
        "    print(str(xs) + \" -> \" + str(y))"
      ],
      "execution_count": null,
      "outputs": [
        {
          "output_type": "stream",
          "name": "stdout",
          "text": [
            "(0, 0)\n",
            "(0, 0) -> 0\n",
            "(0, 0)\n",
            "(1, 0) -> 0\n",
            "(0, 0)\n",
            "(0, 1) -> 0\n",
            "(0, 0)\n",
            "(1, 1) -> 1\n"
          ]
        }
      ]
    },
    {
      "cell_type": "markdown",
      "metadata": {
        "id": "QGCCf6mXS6Kt"
      },
      "source": [
        "### NAND 연산 퍼셉트론 구현"
      ]
    },
    {
      "cell_type": "code",
      "metadata": {
        "colab": {
          "base_uri": "https://localhost:8080/"
        },
        "id": "fYijn_pES9Es",
        "outputId": "841975e5-8e22-47c2-90b9-5d39e588cb60"
      },
      "source": [
        "def NAND(x1, x2):\n",
        "    x = np.array([x1, x2])\n",
        "    w = np.array([-0.5, -0.5])\n",
        "    b = 0.7\n",
        "    tmp =  np.sum(w * x) + b\n",
        "    if tmp <= 0:\n",
        "        return 0\n",
        "    else:\n",
        "        return 1\n",
        "    \n",
        "for xs in [(0, 0), (1, 0), (0, 1), (1, 1)]:\n",
        "    y = NAND(xs[0], xs[1])\n",
        "    print(str(xs) + \" -> \" + str(y))"
      ],
      "execution_count": null,
      "outputs": [
        {
          "output_type": "stream",
          "name": "stdout",
          "text": [
            "(0, 0) -> 1\n",
            "(1, 0) -> 1\n",
            "(0, 1) -> 1\n",
            "(1, 1) -> 0\n"
          ]
        }
      ]
    },
    {
      "cell_type": "markdown",
      "metadata": {
        "id": "Hg-EKisHTCp_"
      },
      "source": [
        "### OR 연산 퍼셉트론 연산"
      ]
    },
    {
      "cell_type": "code",
      "metadata": {
        "colab": {
          "base_uri": "https://localhost:8080/"
        },
        "id": "j9zsFAO7TFTQ",
        "outputId": "592df18c-6565-44d0-a38e-16e2f816e0e4"
      },
      "source": [
        "def OR(x1, x2):\n",
        "    x = np.array([x1, x2])\n",
        "    w = np.array([2, 2])\n",
        "    b = -1\n",
        "    tmp =  np.sum(w * x) + b\n",
        "    if tmp <= 0:\n",
        "        return 0\n",
        "    else:\n",
        "        return 1\n",
        "    \n",
        "for xs in [(0, 0), (1, 0), (0, 1), (1, 1)]:\n",
        "    y = OR(xs[0], xs[1])\n",
        "    print(str(xs) + \" -> \" + str(y))"
      ],
      "execution_count": null,
      "outputs": [
        {
          "output_type": "stream",
          "name": "stdout",
          "text": [
            "(0, 0) -> 0\n",
            "(1, 0) -> 1\n",
            "(0, 1) -> 1\n",
            "(1, 1) -> 1\n"
          ]
        }
      ]
    },
    {
      "cell_type": "markdown",
      "metadata": {
        "id": "NPUgmz0bTGHH"
      },
      "source": [
        "### XOR 연산 다층 퍼셉트론 구현"
      ]
    },
    {
      "cell_type": "code",
      "metadata": {
        "colab": {
          "base_uri": "https://localhost:8080/"
        },
        "id": "OxKKHRFBTJqZ",
        "outputId": "b5d770ad-5967-450d-c8a4-b534a654bd18"
      },
      "source": [
        "def XOR(x1, x2):\n",
        "    s1 = NAND(x1, x2)\n",
        "    s2 = OR(x1, x2)\n",
        "    y = AND(s1, s2)\n",
        "    return y\n",
        "\n",
        "print(\"NAND, OR, AND\")\n",
        "for xs in [(0, 0), (1, 0), (0, 1), (1, 1)]:\n",
        "    y = XOR(xs[0], xs[1])\n",
        "    print(str(xs) + \" -> \" + str(y))"
      ],
      "execution_count": null,
      "outputs": [
        {
          "output_type": "stream",
          "name": "stdout",
          "text": [
            "NAND, OR, AND\n",
            "(0, 0) -> 0\n",
            "(1, 0) -> 1\n",
            "(0, 1) -> 1\n",
            "(1, 1) -> 0\n"
          ]
        }
      ]
    },
    {
      "cell_type": "markdown",
      "metadata": {
        "id": "SVcHbnRuMHax"
      },
      "source": [
        "케라스란\n",
        "\n",
        "누구나 쉽게 사용하고 접 할 수 있도록 파이썬으로 설계된 머신러닝 라이브러리\n",
        "\n",
        "1. 단순성 및 간결성(Simplicity)\n",
        " - 케라스의 표현은 짧고 간결.\n",
        "2. 유연성(Easy Extensibility)\n",
        " - 케라스는 텐서플로와 높은 호환성을 가짐.\n",
        "3. 모듈화(Modularity)\n",
        " - 케라스에서 사용 가능한 모든 모듈은 독립적으로 문제에 맞게 정의할 수 있으며, 이에 적합한 모델을 구성\n",
        "\n",
        "4. 파이썬 기반(Python base)\n",
        " - 쉽게 접근할 수 있다는 장점을 보유한 파이썬 코드르르 통해 작동.\n",
        "\n",
        "\n",
        "\n",
        "1. 학습 데이터를 준비합니다. -> Data preparing, Precessing\n",
        "2. 문제를 해결하기 위한 모델의 정의함 ->Model(Sequential, Function API)\n",
        "3. 손실 함수(Loss), 옵티마이저(Optimizer)를 설정함 ->compile()\n",
        "4. 모델을 학습시키고, 추론 -> fit(), evaluate(), prdict()\n",
        "\n",
        "@tf.function은 텐서플로우에서 자동으로 그래프를 생성(Auto graph)해주는 기능. 이 기능을 사용하면 파이썬으로 구성된 코드를 고효율의 텐서플로우 그래프로 변환하여 사용할 수 있습니다."
      ]
    },
    {
      "cell_type": "code",
      "metadata": {
        "id": "S7t3LBH_RliG"
      },
      "source": [
        "import tensorflow as tf"
      ],
      "execution_count": null,
      "outputs": []
    },
    {
      "cell_type": "code",
      "metadata": {
        "colab": {
          "base_uri": "https://localhost:8080/"
        },
        "id": "WgW3hzLvMI-S",
        "outputId": "6036dcf2-14f1-4bab-96ce-07490b85efd7"
      },
      "source": [
        "# tf.function을 사용하지 않은 함수\n",
        "def square_pos(x):\n",
        "  if x>0:\n",
        "    x = x * x\n",
        "  else : \n",
        "    x = x* -1\n",
        "  return x\n",
        "square_pos"
      ],
      "execution_count": null,
      "outputs": [
        {
          "output_type": "execute_result",
          "data": {
            "text/plain": [
              "<function __main__.square_pos>"
            ]
          },
          "metadata": {},
          "execution_count": 7
        }
      ]
    },
    {
      "cell_type": "code",
      "metadata": {
        "colab": {
          "base_uri": "https://localhost:8080/"
        },
        "id": "KdwfCge2MRhp",
        "outputId": "9e0e8cfa-2a15-49c7-bd92-d72975abaa0a"
      },
      "source": [
        "# tf.function을 사용하는 함수\n",
        "@tf.function \n",
        "def square_pos(x):\n",
        "  if x>0:\n",
        "    x = x * x\n",
        "  else : \n",
        "    x = x* -1\n",
        "  return x\n",
        "square_pos"
      ],
      "execution_count": null,
      "outputs": [
        {
          "output_type": "execute_result",
          "data": {
            "text/plain": [
              "<tensorflow.python.eager.def_function.Function at 0x7faf224a4650>"
            ]
          },
          "metadata": {},
          "execution_count": 9
        }
      ]
    },
    {
      "cell_type": "code",
      "metadata": {
        "id": "Icv0KpE3VMRZ"
      },
      "source": [
        "import tensorflow as tf\n",
        "\n",
        "tf.random.set_seed(777) # 시드를 설정 함.\n",
        "\n",
        "import numpy as np\n",
        "from tensorflow.keras.models import Sequential\n",
        "from tensorflow.keras.layers import Dense\n",
        "from tensorflow.keras.layers import Dense #(fully connected)\n",
        "from tensorflow.keras.optimizers import SGD\n",
        "from tensorflow.keras.losses import mse #(mean square error)\n",
        "\n",
        "# 데이터 준비하기\n",
        "x = np.array([[0,0],[1,0],[0,1],[1,1]])\n",
        "y = np.array([[0],[1],[1],[1]])\n",
        "\n",
        "#모델 구성하기\n",
        "model = Sequential()\n",
        "\n",
        "#단층 퍼셉트론을 구성\n",
        "model.add(Dense(1, input_shape = (2, ), activation = 'linear'))\n",
        "\n",
        "#모델 준비하기\n",
        "model.compile(optimizer = 'SGD',\n",
        "              loss = mse,\n",
        "              metrics = ['acc']) #list형태로 평가지표를 전달\n",
        "#학습시키기\n",
        "model.fit(x,y,epochs = 500)"
      ],
      "execution_count": null,
      "outputs": []
    },
    {
      "cell_type": "code",
      "metadata": {
        "colab": {
          "base_uri": "https://localhost:8080/"
        },
        "id": "uwyXnWwEVQvI",
        "outputId": "f0c84db8-5b30-4d17-c679-03b5394ea170"
      },
      "source": [
        "model.get_weights()"
      ],
      "execution_count": null,
      "outputs": [
        {
          "output_type": "execute_result",
          "data": {
            "text/plain": [
              "[array([[0.49431452],\n",
              "        [0.37552655]], dtype=float32), array([0.3271933], dtype=float32)]"
            ]
          },
          "metadata": {},
          "execution_count": 13
        }
      ]
    },
    {
      "cell_type": "markdown",
      "metadata": {
        "id": "hDOJdZcMWvXv"
      },
      "source": [
        "## Activation Functions"
      ]
    },
    {
      "cell_type": "code",
      "metadata": {
        "id": "D03NNohnaC66"
      },
      "source": [
        "def sigmoid(z):\n",
        "    return 1 / (1 + np.exp(-z))\n",
        "\n",
        "def relu(z):\n",
        "    return np.maximum(0, z)\n",
        "\n",
        "def derivative(f, z, eps=0.000001):\n",
        "    return (f(z + eps) - f(z - eps))/(2 * eps)"
      ],
      "execution_count": null,
      "outputs": []
    },
    {
      "cell_type": "code",
      "metadata": {
        "colab": {
          "base_uri": "https://localhost:8080/",
          "height": 282
        },
        "id": "yiUVXpC9WtN3",
        "outputId": "06e36591-a1a5-417b-c100-fc507c3e7bf6"
      },
      "source": [
        "import matplotlib.pyplot as plt\n",
        "\n",
        "z = np.linspace(-5, 5, 200)\n",
        "\n",
        "plt.figure(figsize=(11,4))\n",
        "\n",
        "plt.subplot(121)\n",
        "plt.plot(z, np.sign(z), \"r-\", linewidth=1, label=\"Step\")\n",
        "plt.plot(z, sigmoid(z), \"g--\", linewidth=2, label=\"Sigmoid\")\n",
        "plt.plot(z, np.tanh(z), \"b-\", linewidth=2, label=\"Tanh\")\n",
        "plt.plot(z, relu(z), \"m-.\", linewidth=2, label=\"ReLU\")\n",
        "plt.grid(True)\n",
        "plt.legend(loc=\"center right\", fontsize=14)\n",
        "plt.title(\"Activation functions\", fontsize=14)\n",
        "plt.axis([-5, 5, -1.2, 1.2])\n",
        "\n",
        "plt.subplot(122)\n",
        "plt.plot(z, derivative(np.sign, z), \"r-\", linewidth=1, label=\"Step\")\n",
        "plt.plot(0, 0, \"ro\", markersize=5)\n",
        "plt.plot(0, 0, \"rx\", markersize=10)\n",
        "plt.plot(z, derivative(sigmoid, z), \"g--\", linewidth=2, label=\"Sigmoid\")\n",
        "plt.plot(z, derivative(np.tanh, z), \"b-\", linewidth=2, label=\"Tanh\")\n",
        "plt.plot(z, derivative(relu, z), \"m-.\", linewidth=2, label=\"ReLU\")\n",
        "plt.grid(True)\n",
        "#plt.legend(loc=\"center right\", fontsize=14)\n",
        "plt.title(\"Derivatives\", fontsize=14)\n",
        "plt.axis([-5, 5, -0.2, 1.2])\n",
        "\n",
        "plt.show()"
      ],
      "execution_count": null,
      "outputs": [
        {
          "output_type": "display_data",
          "data": {
            "image/png": "[encoded data removed]",
            "text/plain": [
              "<Figure size 792x288 with 2 Axes>"
            ]
          },
          "metadata": {
            "needs_background": "light"
          }
        }
      ]
    },
    {
      "cell_type": "code",
      "metadata": {
        "id": "BweuKXxzMSgb"
      },
      "source": [
        "import tensorflow as tf\n",
        "import numpy as np\n",
        "\n",
        "\n",
        "## data 선언\n",
        "x_data = [[0.,0.], [0.,1.], [1.,0.],[1.,1.]]\n",
        "y_data = [[1.], [0.], [0.], [1.]]\n",
        "\n",
        "## tf.keras를 활용한 perceptron 모델 구현.\n",
        "input_Layer = tf.keras.layers.Input(shape=(2,))\n",
        "x = tf.keras.layers.Dense(2, activation='sigmoid')(input_Layer)\n",
        "Out_Layer= tf.keras.layers.Dense(1, activation='sigmoid')(x)\n",
        "model = tf.keras.Model(inputs=[input_Layer], outputs=[Out_Layer])\n",
        "model.summary() # 층을 쌓은걸 볼수 있다.\n",
        "\n",
        "# 모델 loss, 학습 방법 결정하기\n",
        "optimizer=tf.keras.optimizers.SGD(lr=0.7) ### 경사 하강법으로 global min 에 찾아가는 최적화 방법 선언.\n",
        "loss=tf.keras.losses.binary_crossentropy  ## 예측값 과 정답의 오차값 정의. mse는 mean squre error로 (예측값 - 정답)^2 를 의미\n",
        "metrics=tf.keras.metrics.binary_accuracy ### 학습하면서 평가할 메트릭스 선언언\n",
        "\n",
        "# 모델 컴파일하기\n",
        "model.compile(loss=loss, optimizer=optimizer, metrics=[metrics])\n",
        "\n",
        "# 모델 동작하기\n",
        "model.fit(x_data, y_data, epochs=100, batch_size=4)\n",
        "#batch_size ->gpu 용량이 적다->OOM(out of memory)\n",
        "# model.fit(x_data,y_data, epochs=1000,)\n"
      ],
      "execution_count": null,
      "outputs": []
    },
    {
      "cell_type": "code",
      "metadata": {
        "id": "8MUBWA_mVZCd",
        "colab": {
          "base_uri": "https://localhost:8080/"
        },
        "outputId": "2eec97d2-63fb-42b9-90f0-61ca10859219"
      },
      "source": [
        "import tensorflow as tf\n",
        "\n",
        "tf.random.set_seed(777) # 시드를 설정 함.\n",
        "\n",
        "import numpy as np\n",
        "from tensorflow.keras.models import Sequential\n",
        "from tensorflow.keras.layers import Dense\n",
        "from tensorflow.keras.optimizers import SGD\n",
        "from tensorflow.keras.losses import mse\n",
        "\n",
        "# 데이터 준비하기\n",
        "x = np.array([[0,0],[1,0],[0,1],[1,1]])\n",
        "y = np.array([[0],[1],[1],[0]])\n",
        "\n",
        "# XOR gate이기 때문에 y값은 0,1,1,0임\n",
        "\n",
        "#모델 구성하기\n",
        "\n",
        "model = Sequential()\n",
        "model.add(Dense(32, input_shape = (2, ), activation = 'relu')) # 32개로 여러개로 쌓음.\n",
        "model.add(Dense(1, activation='sigmoid'))\n",
        "model.summary()\n",
        "\n",
        "#모델 준비하기\n",
        "\n",
        "model.compile(optimizer = 'adam',\n",
        "              loss = mse,\n",
        "              metrics = ['acc']) #list형태로 평가지표를 전달\n",
        "\n",
        "#학습시키기\n",
        "\n",
        "model.fit(x,y,epochs = 500)"
      ],
      "execution_count": null,
      "outputs": [
        {
          "output_type": "stream",
          "name": "stdout",
          "text": [
            "Model: \"sequential_2\"\n",
            "_________________________________________________________________\n",
            "Layer (type)                 Output Shape              Param #   \n",
            "=================================================================\n",
            "dense_2 (Dense)              (None, 32)                96        \n",
            "_________________________________________________________________\n",
            "dense_3 (Dense)              (None, 1)                 33        \n",
            "=================================================================\n",
            "Total params: 129\n",
            "Trainable params: 129\n",
            "Non-trainable params: 0\n",
            "_________________________________________________________________\n",
            "Epoch 1/500\n",
            "1/1 [==============================] - 0s 326ms/step - loss: 0.2646 - acc: 0.5000\n",
            "Epoch 2/500\n",
            "1/1 [==============================] - 0s 4ms/step - loss: 0.2638 - acc: 0.2500\n",
            "Epoch 3/500\n",
            "1/1 [==============================] - 0s 6ms/step - loss: 0.2629 - acc: 0.2500\n",
            "Epoch 4/500\n",
            "1/1 [==============================] - 0s 5ms/step - loss: 0.2621 - acc: 0.2500\n",
            "Epoch 5/500\n",
            "1/1 [==============================] - 0s 5ms/step - loss: 0.2614 - acc: 0.2500\n",
            "Epoch 6/500\n",
            "1/1 [==============================] - 0s 6ms/step - loss: 0.2606 - acc: 0.2500\n",
            "Epoch 7/500\n",
            "1/1 [==============================] - 0s 7ms/step - loss: 0.2599 - acc: 0.2500\n",
            "Epoch 8/500\n",
            "1/1 [==============================] - 0s 8ms/step - loss: 0.2591 - acc: 0.2500\n",
            "Epoch 9/500\n",
            "1/1 [==============================] - 0s 7ms/step - loss: 0.2584 - acc: 0.2500\n",
            "Epoch 10/500\n",
            "1/1 [==============================] - 0s 5ms/step - loss: 0.2577 - acc: 0.2500\n",
            "Epoch 11/500\n",
            "1/1 [==============================] - 0s 6ms/step - loss: 0.2570 - acc: 0.2500\n",
            "Epoch 12/500\n",
            "1/1 [==============================] - 0s 5ms/step - loss: 0.2564 - acc: 0.2500\n",
            "Epoch 13/500\n",
            "1/1 [==============================] - 0s 7ms/step - loss: 0.2557 - acc: 0.2500\n",
            "Epoch 14/500\n",
            "1/1 [==============================] - 0s 5ms/step - loss: 0.2551 - acc: 0.2500\n",
            "Epoch 15/500\n",
            "1/1 [==============================] - 0s 6ms/step - loss: 0.2544 - acc: 0.2500\n",
            "Epoch 16/500\n",
            "1/1 [==============================] - 0s 5ms/step - loss: 0.2538 - acc: 0.5000\n",
            "Epoch 17/500\n",
            "1/1 [==============================] - 0s 6ms/step - loss: 0.2532 - acc: 0.5000\n",
            "Epoch 18/500\n",
            "1/1 [==============================] - 0s 5ms/step - loss: 0.2526 - acc: 0.5000\n",
            "Epoch 19/500\n",
            "1/1 [==============================] - 0s 6ms/step - loss: 0.2520 - acc: 0.5000\n",
            "Epoch 20/500\n",
            "1/1 [==============================] - 0s 6ms/step - loss: 0.2515 - acc: 0.5000\n",
            "Epoch 21/500\n",
            "1/1 [==============================] - 0s 6ms/step - loss: 0.2509 - acc: 0.5000\n",
            "Epoch 22/500\n",
            "1/1 [==============================] - 0s 6ms/step - loss: 0.2503 - acc: 0.5000\n",
            "Epoch 23/500\n",
            "1/1 [==============================] - 0s 6ms/step - loss: 0.2498 - acc: 0.5000\n",
            "Epoch 24/500\n",
            "1/1 [==============================] - 0s 11ms/step - loss: 0.2493 - acc: 0.5000\n",
            "Epoch 25/500\n",
            "1/1 [==============================] - 0s 6ms/step - loss: 0.2488 - acc: 0.5000\n",
            "Epoch 26/500\n",
            "1/1 [==============================] - 0s 5ms/step - loss: 0.2482 - acc: 0.5000\n",
            "Epoch 27/500\n",
            "1/1 [==============================] - 0s 4ms/step - loss: 0.2477 - acc: 0.5000\n",
            "Epoch 28/500\n",
            "1/1 [==============================] - 0s 4ms/step - loss: 0.2472 - acc: 0.5000\n",
            "Epoch 29/500\n",
            "1/1 [==============================] - 0s 4ms/step - loss: 0.2467 - acc: 0.5000\n",
            "Epoch 30/500\n",
            "1/1 [==============================] - 0s 5ms/step - loss: 0.2462 - acc: 0.5000\n",
            "Epoch 31/500\n",
            "1/1 [==============================] - 0s 4ms/step - loss: 0.2458 - acc: 0.5000\n",
            "Epoch 32/500\n",
            "1/1 [==============================] - 0s 6ms/step - loss: 0.2453 - acc: 0.5000\n",
            "Epoch 33/500\n",
            "1/1 [==============================] - 0s 5ms/step - loss: 0.2448 - acc: 0.5000\n",
            "Epoch 34/500\n",
            "1/1 [==============================] - 0s 5ms/step - loss: 0.2443 - acc: 0.5000\n",
            "Epoch 35/500\n",
            "1/1 [==============================] - 0s 6ms/step - loss: 0.2438 - acc: 0.5000\n",
            "Epoch 36/500\n",
            "1/1 [==============================] - 0s 5ms/step - loss: 0.2433 - acc: 0.5000\n",
            "Epoch 37/500\n",
            "1/1 [==============================] - 0s 5ms/step - loss: 0.2429 - acc: 0.5000\n",
            "Epoch 38/500\n",
            "1/1 [==============================] - 0s 5ms/step - loss: 0.2424 - acc: 0.5000\n",
            "Epoch 39/500\n",
            "1/1 [==============================] - 0s 12ms/step - loss: 0.2419 - acc: 0.5000\n",
            "Epoch 40/500\n",
            "1/1 [==============================] - 0s 9ms/step - loss: 0.2414 - acc: 0.5000\n",
            "Epoch 41/500\n",
            "1/1 [==============================] - 0s 11ms/step - loss: 0.2409 - acc: 0.5000\n",
            "Epoch 42/500\n",
            "1/1 [==============================] - 0s 4ms/step - loss: 0.2405 - acc: 0.5000\n",
            "Epoch 43/500\n",
            "1/1 [==============================] - 0s 5ms/step - loss: 0.2400 - acc: 0.5000\n",
            "Epoch 44/500\n",
            "1/1 [==============================] - 0s 6ms/step - loss: 0.2395 - acc: 0.5000\n",
            "Epoch 45/500\n",
            "1/1 [==============================] - 0s 5ms/step - loss: 0.2390 - acc: 0.5000\n",
            "Epoch 46/500\n",
            "1/1 [==============================] - 0s 5ms/step - loss: 0.2385 - acc: 0.5000\n",
            "Epoch 47/500\n",
            "1/1 [==============================] - 0s 5ms/step - loss: 0.2380 - acc: 0.5000\n",
            "Epoch 48/500\n",
            "1/1 [==============================] - 0s 6ms/step - loss: 0.2376 - acc: 0.7500\n",
            "Epoch 49/500\n",
            "1/1 [==============================] - 0s 9ms/step - loss: 0.2371 - acc: 0.7500\n",
            "Epoch 50/500\n",
            "1/1 [==============================] - 0s 9ms/step - loss: 0.2366 - acc: 0.7500\n",
            "Epoch 51/500\n",
            "1/1 [==============================] - 0s 8ms/step - loss: 0.2361 - acc: 0.7500\n",
            "Epoch 52/500\n",
            "1/1 [==============================] - 0s 6ms/step - loss: 0.2356 - acc: 0.7500\n",
            "Epoch 53/500\n",
            "1/1 [==============================] - 0s 6ms/step - loss: 0.2352 - acc: 0.7500\n",
            "Epoch 54/500\n",
            "1/1 [==============================] - 0s 5ms/step - loss: 0.2347 - acc: 0.7500\n",
            "Epoch 55/500\n",
            "1/1 [==============================] - 0s 8ms/step - loss: 0.2342 - acc: 0.7500\n",
            "Epoch 56/500\n",
            "1/1 [==============================] - 0s 7ms/step - loss: 0.2338 - acc: 0.7500\n",
            "Epoch 57/500\n",
            "1/1 [==============================] - 0s 7ms/step - loss: 0.2334 - acc: 0.7500\n",
            "Epoch 58/500\n",
            "1/1 [==============================] - 0s 7ms/step - loss: 0.2329 - acc: 0.7500\n",
            "Epoch 59/500\n",
            "1/1 [==============================] - 0s 6ms/step - loss: 0.2325 - acc: 0.7500\n",
            "Epoch 60/500\n",
            "1/1 [==============================] - 0s 6ms/step - loss: 0.2321 - acc: 0.7500\n",
            "Epoch 61/500\n",
            "1/1 [==============================] - 0s 6ms/step - loss: 0.2316 - acc: 0.7500\n",
            "Epoch 62/500\n",
            "1/1 [==============================] - 0s 8ms/step - loss: 0.2312 - acc: 0.7500\n",
            "Epoch 63/500\n",
            "1/1 [==============================] - 0s 8ms/step - loss: 0.2308 - acc: 0.7500\n",
            "Epoch 64/500\n",
            "1/1 [==============================] - 0s 8ms/step - loss: 0.2303 - acc: 0.7500\n",
            "Epoch 65/500\n",
            "1/1 [==============================] - 0s 5ms/step - loss: 0.2299 - acc: 0.7500\n",
            "Epoch 66/500\n",
            "1/1 [==============================] - 0s 6ms/step - loss: 0.2295 - acc: 0.7500\n",
            "Epoch 67/500\n",
            "1/1 [==============================] - 0s 6ms/step - loss: 0.2290 - acc: 0.7500\n",
            "Epoch 68/500\n",
            "1/1 [==============================] - 0s 5ms/step - loss: 0.2286 - acc: 0.7500\n",
            "Epoch 69/500\n",
            "1/1 [==============================] - 0s 6ms/step - loss: 0.2282 - acc: 0.7500\n",
            "Epoch 70/500\n",
            "1/1 [==============================] - 0s 11ms/step - loss: 0.2277 - acc: 0.7500\n",
            "Epoch 71/500\n",
            "1/1 [==============================] - 0s 5ms/step - loss: 0.2273 - acc: 0.7500\n",
            "Epoch 72/500\n",
            "1/1 [==============================] - 0s 9ms/step - loss: 0.2269 - acc: 0.7500\n",
            "Epoch 73/500\n",
            "1/1 [==============================] - 0s 9ms/step - loss: 0.2265 - acc: 0.7500\n",
            "Epoch 74/500\n",
            "1/1 [==============================] - 0s 8ms/step - loss: 0.2261 - acc: 0.7500\n",
            "Epoch 75/500\n",
            "1/1 [==============================] - 0s 9ms/step - loss: 0.2257 - acc: 0.7500\n",
            "Epoch 76/500\n",
            "1/1 [==============================] - 0s 4ms/step - loss: 0.2253 - acc: 0.7500\n",
            "Epoch 77/500\n",
            "1/1 [==============================] - 0s 6ms/step - loss: 0.2249 - acc: 0.7500\n",
            "Epoch 78/500\n",
            "1/1 [==============================] - 0s 8ms/step - loss: 0.2245 - acc: 0.7500\n",
            "Epoch 79/500\n",
            "1/1 [==============================] - 0s 6ms/step - loss: 0.2241 - acc: 0.7500\n",
            "Epoch 80/500\n",
            "1/1 [==============================] - 0s 17ms/step - loss: 0.2237 - acc: 0.7500\n",
            "Epoch 81/500\n",
            "1/1 [==============================] - 0s 12ms/step - loss: 0.2233 - acc: 0.7500\n",
            "Epoch 82/500\n",
            "1/1 [==============================] - 0s 7ms/step - loss: 0.2229 - acc: 0.7500\n",
            "Epoch 83/500\n",
            "1/1 [==============================] - 0s 20ms/step - loss: 0.2225 - acc: 0.7500\n",
            "Epoch 84/500\n",
            "1/1 [==============================] - 0s 10ms/step - loss: 0.2221 - acc: 0.7500\n",
            "Epoch 85/500\n",
            "1/1 [==============================] - 0s 12ms/step - loss: 0.2217 - acc: 0.7500\n",
            "Epoch 86/500\n",
            "1/1 [==============================] - 0s 7ms/step - loss: 0.2213 - acc: 0.7500\n",
            "Epoch 87/500\n",
            "1/1 [==============================] - 0s 7ms/step - loss: 0.2209 - acc: 0.7500\n",
            "Epoch 88/500\n",
            "1/1 [==============================] - 0s 10ms/step - loss: 0.2205 - acc: 0.7500\n",
            "Epoch 89/500\n",
            "1/1 [==============================] - 0s 8ms/step - loss: 0.2201 - acc: 1.0000\n",
            "Epoch 90/500\n",
            "1/1 [==============================] - 0s 7ms/step - loss: 0.2197 - acc: 1.0000\n",
            "Epoch 91/500\n",
            "1/1 [==============================] - 0s 9ms/step - loss: 0.2193 - acc: 1.0000\n",
            "Epoch 92/500\n",
            "1/1 [==============================] - 0s 5ms/step - loss: 0.2188 - acc: 1.0000\n",
            "Epoch 93/500\n",
            "1/1 [==============================] - 0s 5ms/step - loss: 0.2184 - acc: 1.0000\n",
            "Epoch 94/500\n",
            "1/1 [==============================] - 0s 4ms/step - loss: 0.2180 - acc: 1.0000\n",
            "Epoch 95/500\n",
            "1/1 [==============================] - 0s 9ms/step - loss: 0.2176 - acc: 1.0000\n",
            "Epoch 96/500\n",
            "1/1 [==============================] - 0s 6ms/step - loss: 0.2172 - acc: 1.0000\n",
            "Epoch 97/500\n",
            "1/1 [==============================] - 0s 10ms/step - loss: 0.2168 - acc: 1.0000\n",
            "Epoch 98/500\n",
            "1/1 [==============================] - 0s 11ms/step - loss: 0.2164 - acc: 1.0000\n",
            "Epoch 99/500\n",
            "1/1 [==============================] - 0s 6ms/step - loss: 0.2160 - acc: 1.0000\n",
            "Epoch 100/500\n",
            "1/1 [==============================] - 0s 9ms/step - loss: 0.2155 - acc: 1.0000\n",
            "Epoch 101/500\n",
            "1/1 [==============================] - 0s 6ms/step - loss: 0.2151 - acc: 1.0000\n",
            "Epoch 102/500\n",
            "1/1 [==============================] - 0s 7ms/step - loss: 0.2147 - acc: 1.0000\n",
            "Epoch 103/500\n",
            "1/1 [==============================] - 0s 7ms/step - loss: 0.2143 - acc: 1.0000\n",
            "Epoch 104/500\n",
            "1/1 [==============================] - 0s 7ms/step - loss: 0.2138 - acc: 1.0000\n",
            "Epoch 105/500\n",
            "1/1 [==============================] - 0s 8ms/step - loss: 0.2134 - acc: 1.0000\n",
            "Epoch 106/500\n",
            "1/1 [==============================] - 0s 6ms/step - loss: 0.2130 - acc: 1.0000\n",
            "Epoch 107/500\n",
            "1/1 [==============================] - 0s 6ms/step - loss: 0.2126 - acc: 1.0000\n",
            "Epoch 108/500\n",
            "1/1 [==============================] - 0s 8ms/step - loss: 0.2121 - acc: 1.0000\n",
            "Epoch 109/500\n",
            "1/1 [==============================] - 0s 8ms/step - loss: 0.2117 - acc: 1.0000\n",
            "Epoch 110/500\n",
            "1/1 [==============================] - 0s 12ms/step - loss: 0.2113 - acc: 1.0000\n",
            "Epoch 111/500\n",
            "1/1 [==============================] - 0s 5ms/step - loss: 0.2109 - acc: 1.0000\n",
            "Epoch 112/500\n",
            "1/1 [==============================] - 0s 8ms/step - loss: 0.2105 - acc: 1.0000\n",
            "Epoch 113/500\n",
            "1/1 [==============================] - 0s 6ms/step - loss: 0.2101 - acc: 1.0000\n",
            "Epoch 114/500\n",
            "1/1 [==============================] - 0s 6ms/step - loss: 0.2096 - acc: 1.0000\n",
            "Epoch 115/500\n",
            "1/1 [==============================] - 0s 6ms/step - loss: 0.2092 - acc: 1.0000\n",
            "Epoch 116/500\n",
            "1/1 [==============================] - 0s 11ms/step - loss: 0.2088 - acc: 1.0000\n",
            "Epoch 117/500\n",
            "1/1 [==============================] - 0s 4ms/step - loss: 0.2084 - acc: 1.0000\n",
            "Epoch 118/500\n",
            "1/1 [==============================] - 0s 5ms/step - loss: 0.2080 - acc: 1.0000\n",
            "Epoch 119/500\n",
            "1/1 [==============================] - 0s 6ms/step - loss: 0.2076 - acc: 1.0000\n",
            "Epoch 120/500\n",
            "1/1 [==============================] - 0s 6ms/step - loss: 0.2071 - acc: 1.0000\n",
            "Epoch 121/500\n",
            "1/1 [==============================] - 0s 6ms/step - loss: 0.2067 - acc: 1.0000\n",
            "Epoch 122/500\n",
            "1/1 [==============================] - 0s 4ms/step - loss: 0.2063 - acc: 1.0000\n",
            "Epoch 123/500\n",
            "1/1 [==============================] - 0s 4ms/step - loss: 0.2059 - acc: 1.0000\n",
            "Epoch 124/500\n",
            "1/1 [==============================] - 0s 18ms/step - loss: 0.2054 - acc: 1.0000\n",
            "Epoch 125/500\n",
            "1/1 [==============================] - 0s 8ms/step - loss: 0.2050 - acc: 1.0000\n",
            "Epoch 126/500\n",
            "1/1 [==============================] - 0s 8ms/step - loss: 0.2045 - acc: 1.0000\n",
            "Epoch 127/500\n",
            "1/1 [==============================] - 0s 7ms/step - loss: 0.2041 - acc: 1.0000\n",
            "Epoch 128/500\n",
            "1/1 [==============================] - 0s 8ms/step - loss: 0.2037 - acc: 1.0000\n",
            "Epoch 129/500\n",
            "1/1 [==============================] - 0s 6ms/step - loss: 0.2032 - acc: 1.0000\n",
            "Epoch 130/500\n",
            "1/1 [==============================] - 0s 5ms/step - loss: 0.2028 - acc: 1.0000\n",
            "Epoch 131/500\n",
            "1/1 [==============================] - 0s 6ms/step - loss: 0.2024 - acc: 1.0000\n",
            "Epoch 132/500\n",
            "1/1 [==============================] - 0s 8ms/step - loss: 0.2019 - acc: 1.0000\n",
            "Epoch 133/500\n",
            "1/1 [==============================] - 0s 5ms/step - loss: 0.2015 - acc: 1.0000\n",
            "Epoch 134/500\n",
            "1/1 [==============================] - 0s 9ms/step - loss: 0.2010 - acc: 1.0000\n",
            "Epoch 135/500\n",
            "1/1 [==============================] - 0s 8ms/step - loss: 0.2006 - acc: 1.0000\n",
            "Epoch 136/500\n",
            "1/1 [==============================] - 0s 14ms/step - loss: 0.2001 - acc: 1.0000\n",
            "Epoch 137/500\n",
            "1/1 [==============================] - 0s 9ms/step - loss: 0.1997 - acc: 1.0000\n",
            "Epoch 138/500\n",
            "1/1 [==============================] - 0s 5ms/step - loss: 0.1992 - acc: 1.0000\n",
            "Epoch 139/500\n",
            "1/1 [==============================] - 0s 7ms/step - loss: 0.1988 - acc: 1.0000\n",
            "Epoch 140/500\n",
            "1/1 [==============================] - 0s 7ms/step - loss: 0.1983 - acc: 1.0000\n",
            "Epoch 141/500\n",
            "1/1 [==============================] - 0s 6ms/step - loss: 0.1979 - acc: 1.0000\n",
            "Epoch 142/500\n",
            "1/1 [==============================] - 0s 5ms/step - loss: 0.1974 - acc: 1.0000\n",
            "Epoch 143/500\n",
            "1/1 [==============================] - 0s 6ms/step - loss: 0.1969 - acc: 1.0000\n",
            "Epoch 144/500\n",
            "1/1 [==============================] - 0s 6ms/step - loss: 0.1965 - acc: 1.0000\n",
            "Epoch 145/500\n",
            "1/1 [==============================] - 0s 5ms/step - loss: 0.1960 - acc: 1.0000\n",
            "Epoch 146/500\n",
            "1/1 [==============================] - 0s 7ms/step - loss: 0.1955 - acc: 1.0000\n",
            "Epoch 147/500\n",
            "1/1 [==============================] - 0s 5ms/step - loss: 0.1951 - acc: 1.0000\n",
            "Epoch 148/500\n",
            "1/1 [==============================] - 0s 5ms/step - loss: 0.1946 - acc: 1.0000\n",
            "Epoch 149/500\n",
            "1/1 [==============================] - 0s 11ms/step - loss: 0.1941 - acc: 1.0000\n",
            "Epoch 150/500\n",
            "1/1 [==============================] - 0s 7ms/step - loss: 0.1937 - acc: 1.0000\n",
            "Epoch 151/500\n",
            "1/1 [==============================] - 0s 6ms/step - loss: 0.1932 - acc: 1.0000\n",
            "Epoch 152/500\n",
            "1/1 [==============================] - 0s 12ms/step - loss: 0.1927 - acc: 1.0000\n",
            "Epoch 153/500\n",
            "1/1 [==============================] - 0s 7ms/step - loss: 0.1922 - acc: 1.0000\n",
            "Epoch 154/500\n",
            "1/1 [==============================] - 0s 6ms/step - loss: 0.1918 - acc: 1.0000\n",
            "Epoch 155/500\n",
            "1/1 [==============================] - 0s 5ms/step - loss: 0.1913 - acc: 1.0000\n",
            "Epoch 156/500\n",
            "1/1 [==============================] - 0s 6ms/step - loss: 0.1908 - acc: 1.0000\n",
            "Epoch 157/500\n",
            "1/1 [==============================] - 0s 6ms/step - loss: 0.1903 - acc: 1.0000\n",
            "Epoch 158/500\n",
            "1/1 [==============================] - 0s 7ms/step - loss: 0.1898 - acc: 1.0000\n",
            "Epoch 159/500\n",
            "1/1 [==============================] - 0s 6ms/step - loss: 0.1894 - acc: 1.0000\n",
            "Epoch 160/500\n",
            "1/1 [==============================] - 0s 5ms/step - loss: 0.1889 - acc: 1.0000\n",
            "Epoch 161/500\n",
            "1/1 [==============================] - 0s 7ms/step - loss: 0.1884 - acc: 1.0000\n",
            "Epoch 162/500\n",
            "1/1 [==============================] - 0s 15ms/step - loss: 0.1879 - acc: 1.0000\n",
            "Epoch 163/500\n",
            "1/1 [==============================] - 0s 5ms/step - loss: 0.1874 - acc: 1.0000\n",
            "Epoch 164/500\n",
            "1/1 [==============================] - 0s 4ms/step - loss: 0.1869 - acc: 1.0000\n",
            "Epoch 165/500\n",
            "1/1 [==============================] - 0s 15ms/step - loss: 0.1864 - acc: 1.0000\n",
            "Epoch 166/500\n",
            "1/1 [==============================] - 0s 8ms/step - loss: 0.1859 - acc: 1.0000\n",
            "Epoch 167/500\n",
            "1/1 [==============================] - 0s 4ms/step - loss: 0.1854 - acc: 1.0000\n",
            "Epoch 168/500\n",
            "1/1 [==============================] - 0s 7ms/step - loss: 0.1849 - acc: 1.0000\n",
            "Epoch 169/500\n",
            "1/1 [==============================] - 0s 10ms/step - loss: 0.1844 - acc: 1.0000\n",
            "Epoch 170/500\n",
            "1/1 [==============================] - 0s 5ms/step - loss: 0.1839 - acc: 1.0000\n",
            "Epoch 171/500\n",
            "1/1 [==============================] - 0s 5ms/step - loss: 0.1834 - acc: 1.0000\n",
            "Epoch 172/500\n",
            "1/1 [==============================] - 0s 6ms/step - loss: 0.1829 - acc: 1.0000\n",
            "Epoch 173/500\n",
            "1/1 [==============================] - 0s 5ms/step - loss: 0.1824 - acc: 1.0000\n",
            "Epoch 174/500\n",
            "1/1 [==============================] - 0s 7ms/step - loss: 0.1819 - acc: 1.0000\n",
            "Epoch 175/500\n",
            "1/1 [==============================] - 0s 7ms/step - loss: 0.1814 - acc: 1.0000\n",
            "Epoch 176/500\n",
            "1/1 [==============================] - 0s 4ms/step - loss: 0.1809 - acc: 1.0000\n",
            "Epoch 177/500\n",
            "1/1 [==============================] - 0s 11ms/step - loss: 0.1804 - acc: 1.0000\n",
            "Epoch 178/500\n",
            "1/1 [==============================] - 0s 8ms/step - loss: 0.1799 - acc: 1.0000\n",
            "Epoch 179/500\n",
            "1/1 [==============================] - 0s 9ms/step - loss: 0.1793 - acc: 1.0000\n",
            "Epoch 180/500\n",
            "1/1 [==============================] - 0s 5ms/step - loss: 0.1788 - acc: 1.0000\n",
            "Epoch 181/500\n",
            "1/1 [==============================] - 0s 5ms/step - loss: 0.1783 - acc: 1.0000\n",
            "Epoch 182/500\n",
            "1/1 [==============================] - 0s 8ms/step - loss: 0.1778 - acc: 1.0000\n",
            "Epoch 183/500\n",
            "1/1 [==============================] - 0s 10ms/step - loss: 0.1773 - acc: 1.0000\n",
            "Epoch 184/500\n",
            "1/1 [==============================] - 0s 6ms/step - loss: 0.1768 - acc: 1.0000\n",
            "Epoch 185/500\n",
            "1/1 [==============================] - 0s 5ms/step - loss: 0.1762 - acc: 1.0000\n",
            "Epoch 186/500\n",
            "1/1 [==============================] - 0s 5ms/step - loss: 0.1757 - acc: 1.0000\n",
            "Epoch 187/500\n",
            "1/1 [==============================] - 0s 5ms/step - loss: 0.1752 - acc: 1.0000\n",
            "Epoch 188/500\n",
            "1/1 [==============================] - 0s 7ms/step - loss: 0.1747 - acc: 1.0000\n",
            "Epoch 189/500\n",
            "1/1 [==============================] - 0s 6ms/step - loss: 0.1742 - acc: 1.0000\n",
            "Epoch 190/500\n",
            "1/1 [==============================] - 0s 6ms/step - loss: 0.1737 - acc: 1.0000\n",
            "Epoch 191/500\n",
            "1/1 [==============================] - 0s 6ms/step - loss: 0.1732 - acc: 1.0000\n",
            "Epoch 192/500\n",
            "1/1 [==============================] - 0s 6ms/step - loss: 0.1727 - acc: 1.0000\n",
            "Epoch 193/500\n",
            "1/1 [==============================] - 0s 4ms/step - loss: 0.1721 - acc: 1.0000\n",
            "Epoch 194/500\n",
            "1/1 [==============================] - 0s 5ms/step - loss: 0.1716 - acc: 1.0000\n",
            "Epoch 195/500\n",
            "1/1 [==============================] - 0s 12ms/step - loss: 0.1711 - acc: 1.0000\n",
            "Epoch 196/500\n",
            "1/1 [==============================] - 0s 6ms/step - loss: 0.1706 - acc: 1.0000\n",
            "Epoch 197/500\n",
            "1/1 [==============================] - 0s 6ms/step - loss: 0.1701 - acc: 1.0000\n",
            "Epoch 198/500\n",
            "1/1 [==============================] - 0s 5ms/step - loss: 0.1696 - acc: 1.0000\n",
            "Epoch 199/500\n",
            "1/1 [==============================] - 0s 5ms/step - loss: 0.1691 - acc: 1.0000\n",
            "Epoch 200/500\n",
            "1/1 [==============================] - 0s 7ms/step - loss: 0.1685 - acc: 1.0000\n",
            "Epoch 201/500\n",
            "1/1 [==============================] - 0s 4ms/step - loss: 0.1680 - acc: 1.0000\n",
            "Epoch 202/500\n",
            "1/1 [==============================] - 0s 8ms/step - loss: 0.1675 - acc: 1.0000\n",
            "Epoch 203/500\n",
            "1/1 [==============================] - 0s 4ms/step - loss: 0.1670 - acc: 1.0000\n",
            "Epoch 204/500\n",
            "1/1 [==============================] - 0s 5ms/step - loss: 0.1664 - acc: 1.0000\n",
            "Epoch 205/500\n",
            "1/1 [==============================] - 0s 6ms/step - loss: 0.1659 - acc: 1.0000\n",
            "Epoch 206/500\n",
            "1/1 [==============================] - 0s 4ms/step - loss: 0.1654 - acc: 1.0000\n",
            "Epoch 207/500\n",
            "1/1 [==============================] - 0s 7ms/step - loss: 0.1649 - acc: 1.0000\n",
            "Epoch 208/500\n",
            "1/1 [==============================] - 0s 6ms/step - loss: 0.1643 - acc: 1.0000\n",
            "Epoch 209/500\n",
            "1/1 [==============================] - 0s 15ms/step - loss: 0.1638 - acc: 1.0000\n",
            "Epoch 210/500\n",
            "1/1 [==============================] - 0s 19ms/step - loss: 0.1633 - acc: 1.0000\n",
            "Epoch 211/500\n",
            "1/1 [==============================] - 0s 5ms/step - loss: 0.1628 - acc: 1.0000\n",
            "Epoch 212/500\n",
            "1/1 [==============================] - 0s 5ms/step - loss: 0.1622 - acc: 1.0000\n",
            "Epoch 213/500\n",
            "1/1 [==============================] - 0s 4ms/step - loss: 0.1617 - acc: 1.0000\n",
            "Epoch 214/500\n",
            "1/1 [==============================] - 0s 11ms/step - loss: 0.1612 - acc: 1.0000\n",
            "Epoch 215/500\n",
            "1/1 [==============================] - 0s 6ms/step - loss: 0.1607 - acc: 1.0000\n",
            "Epoch 216/500\n",
            "1/1 [==============================] - 0s 9ms/step - loss: 0.1601 - acc: 1.0000\n",
            "Epoch 217/500\n",
            "1/1 [==============================] - 0s 7ms/step - loss: 0.1596 - acc: 1.0000\n",
            "Epoch 218/500\n",
            "1/1 [==============================] - 0s 9ms/step - loss: 0.1591 - acc: 1.0000\n",
            "Epoch 219/500\n",
            "1/1 [==============================] - 0s 8ms/step - loss: 0.1585 - acc: 1.0000\n",
            "Epoch 220/500\n",
            "1/1 [==============================] - 0s 5ms/step - loss: 0.1580 - acc: 1.0000\n",
            "Epoch 221/500\n",
            "1/1 [==============================] - 0s 6ms/step - loss: 0.1575 - acc: 1.0000\n",
            "Epoch 222/500\n",
            "1/1 [==============================] - 0s 12ms/step - loss: 0.1569 - acc: 1.0000\n",
            "Epoch 223/500\n",
            "1/1 [==============================] - 0s 11ms/step - loss: 0.1564 - acc: 1.0000\n",
            "Epoch 224/500\n",
            "1/1 [==============================] - 0s 10ms/step - loss: 0.1559 - acc: 1.0000\n",
            "Epoch 225/500\n",
            "1/1 [==============================] - 0s 9ms/step - loss: 0.1554 - acc: 1.0000\n",
            "Epoch 226/500\n",
            "1/1 [==============================] - 0s 7ms/step - loss: 0.1549 - acc: 1.0000\n",
            "Epoch 227/500\n",
            "1/1 [==============================] - 0s 7ms/step - loss: 0.1543 - acc: 1.0000\n",
            "Epoch 228/500\n",
            "1/1 [==============================] - 0s 12ms/step - loss: 0.1538 - acc: 1.0000\n",
            "Epoch 229/500\n",
            "1/1 [==============================] - 0s 11ms/step - loss: 0.1533 - acc: 1.0000\n",
            "Epoch 230/500\n",
            "1/1 [==============================] - 0s 14ms/step - loss: 0.1528 - acc: 1.0000\n",
            "Epoch 231/500\n",
            "1/1 [==============================] - 0s 10ms/step - loss: 0.1523 - acc: 1.0000\n",
            "Epoch 232/500\n",
            "1/1 [==============================] - 0s 8ms/step - loss: 0.1517 - acc: 1.0000\n",
            "Epoch 233/500\n",
            "1/1 [==============================] - 0s 11ms/step - loss: 0.1512 - acc: 1.0000\n",
            "Epoch 234/500\n",
            "1/1 [==============================] - 0s 10ms/step - loss: 0.1507 - acc: 1.0000\n",
            "Epoch 235/500\n",
            "1/1 [==============================] - 0s 7ms/step - loss: 0.1502 - acc: 1.0000\n",
            "Epoch 236/500\n",
            "1/1 [==============================] - 0s 12ms/step - loss: 0.1497 - acc: 1.0000\n",
            "Epoch 237/500\n",
            "1/1 [==============================] - 0s 8ms/step - loss: 0.1491 - acc: 1.0000\n",
            "Epoch 238/500\n",
            "1/1 [==============================] - 0s 7ms/step - loss: 0.1486 - acc: 1.0000\n",
            "Epoch 239/500\n",
            "1/1 [==============================] - 0s 8ms/step - loss: 0.1481 - acc: 1.0000\n",
            "Epoch 240/500\n",
            "1/1 [==============================] - 0s 9ms/step - loss: 0.1476 - acc: 1.0000\n",
            "Epoch 241/500\n",
            "1/1 [==============================] - 0s 7ms/step - loss: 0.1471 - acc: 1.0000\n",
            "Epoch 242/500\n",
            "1/1 [==============================] - 0s 4ms/step - loss: 0.1466 - acc: 1.0000\n",
            "Epoch 243/500\n",
            "1/1 [==============================] - 0s 8ms/step - loss: 0.1460 - acc: 1.0000\n",
            "Epoch 244/500\n",
            "1/1 [==============================] - 0s 11ms/step - loss: 0.1455 - acc: 1.0000\n",
            "Epoch 245/500\n",
            "1/1 [==============================] - 0s 8ms/step - loss: 0.1450 - acc: 1.0000\n",
            "Epoch 246/500\n",
            "1/1 [==============================] - 0s 5ms/step - loss: 0.1445 - acc: 1.0000\n",
            "Epoch 247/500\n",
            "1/1 [==============================] - 0s 7ms/step - loss: 0.1440 - acc: 1.0000\n",
            "Epoch 248/500\n",
            "1/1 [==============================] - 0s 9ms/step - loss: 0.1434 - acc: 1.0000\n",
            "Epoch 249/500\n",
            "1/1 [==============================] - 0s 6ms/step - loss: 0.1429 - acc: 1.0000\n",
            "Epoch 250/500\n",
            "1/1 [==============================] - 0s 6ms/step - loss: 0.1424 - acc: 1.0000\n",
            "Epoch 251/500\n",
            "1/1 [==============================] - 0s 7ms/step - loss: 0.1419 - acc: 1.0000\n",
            "Epoch 252/500\n",
            "1/1 [==============================] - 0s 4ms/step - loss: 0.1414 - acc: 1.0000\n",
            "Epoch 253/500\n",
            "1/1 [==============================] - 0s 4ms/step - loss: 0.1408 - acc: 1.0000\n",
            "Epoch 254/500\n",
            "1/1 [==============================] - 0s 8ms/step - loss: 0.1403 - acc: 1.0000\n",
            "Epoch 255/500\n",
            "1/1 [==============================] - 0s 4ms/step - loss: 0.1398 - acc: 1.0000\n",
            "Epoch 256/500\n",
            "1/1 [==============================] - 0s 4ms/step - loss: 0.1393 - acc: 1.0000\n",
            "Epoch 257/500\n",
            "1/1 [==============================] - 0s 15ms/step - loss: 0.1388 - acc: 1.0000\n",
            "Epoch 258/500\n",
            "1/1 [==============================] - 0s 12ms/step - loss: 0.1383 - acc: 1.0000\n",
            "Epoch 259/500\n",
            "1/1 [==============================] - 0s 9ms/step - loss: 0.1378 - acc: 1.0000\n",
            "Epoch 260/500\n",
            "1/1 [==============================] - 0s 15ms/step - loss: 0.1373 - acc: 1.0000\n",
            "Epoch 261/500\n",
            "1/1 [==============================] - 0s 7ms/step - loss: 0.1368 - acc: 1.0000\n",
            "Epoch 262/500\n",
            "1/1 [==============================] - 0s 6ms/step - loss: 0.1363 - acc: 1.0000\n",
            "Epoch 263/500\n",
            "1/1 [==============================] - 0s 14ms/step - loss: 0.1357 - acc: 1.0000\n",
            "Epoch 264/500\n",
            "1/1 [==============================] - 0s 5ms/step - loss: 0.1352 - acc: 1.0000\n",
            "Epoch 265/500\n",
            "1/1 [==============================] - 0s 6ms/step - loss: 0.1347 - acc: 1.0000\n",
            "Epoch 266/500\n",
            "1/1 [==============================] - 0s 8ms/step - loss: 0.1342 - acc: 1.0000\n",
            "Epoch 267/500\n",
            "1/1 [==============================] - 0s 10ms/step - loss: 0.1337 - acc: 1.0000\n",
            "Epoch 268/500\n",
            "1/1 [==============================] - 0s 6ms/step - loss: 0.1332 - acc: 1.0000\n",
            "Epoch 269/500\n",
            "1/1 [==============================] - 0s 11ms/step - loss: 0.1327 - acc: 1.0000\n",
            "Epoch 270/500\n",
            "1/1 [==============================] - 0s 8ms/step - loss: 0.1322 - acc: 1.0000\n",
            "Epoch 271/500\n",
            "1/1 [==============================] - 0s 10ms/step - loss: 0.1317 - acc: 1.0000\n",
            "Epoch 272/500\n",
            "1/1 [==============================] - 0s 5ms/step - loss: 0.1311 - acc: 1.0000\n",
            "Epoch 273/500\n",
            "1/1 [==============================] - 0s 5ms/step - loss: 0.1307 - acc: 1.0000\n",
            "Epoch 274/500\n",
            "1/1 [==============================] - 0s 7ms/step - loss: 0.1302 - acc: 1.0000\n",
            "Epoch 275/500\n",
            "1/1 [==============================] - 0s 13ms/step - loss: 0.1297 - acc: 1.0000\n",
            "Epoch 276/500\n",
            "1/1 [==============================] - 0s 5ms/step - loss: 0.1292 - acc: 1.0000\n",
            "Epoch 277/500\n",
            "1/1 [==============================] - 0s 8ms/step - loss: 0.1287 - acc: 1.0000\n",
            "Epoch 278/500\n",
            "1/1 [==============================] - 0s 11ms/step - loss: 0.1282 - acc: 1.0000\n",
            "Epoch 279/500\n",
            "1/1 [==============================] - 0s 6ms/step - loss: 0.1277 - acc: 1.0000\n",
            "Epoch 280/500\n",
            "1/1 [==============================] - 0s 8ms/step - loss: 0.1272 - acc: 1.0000\n",
            "Epoch 281/500\n",
            "1/1 [==============================] - 0s 8ms/step - loss: 0.1267 - acc: 1.0000\n",
            "Epoch 282/500\n",
            "1/1 [==============================] - 0s 11ms/step - loss: 0.1262 - acc: 1.0000\n",
            "Epoch 283/500\n",
            "1/1 [==============================] - 0s 11ms/step - loss: 0.1257 - acc: 1.0000\n",
            "Epoch 284/500\n",
            "1/1 [==============================] - 0s 6ms/step - loss: 0.1252 - acc: 1.0000\n",
            "Epoch 285/500\n",
            "1/1 [==============================] - 0s 5ms/step - loss: 0.1247 - acc: 1.0000\n",
            "Epoch 286/500\n",
            "1/1 [==============================] - 0s 9ms/step - loss: 0.1242 - acc: 1.0000\n",
            "Epoch 287/500\n",
            "1/1 [==============================] - 0s 11ms/step - loss: 0.1237 - acc: 1.0000\n",
            "Epoch 288/500\n",
            "1/1 [==============================] - 0s 5ms/step - loss: 0.1232 - acc: 1.0000\n",
            "Epoch 289/500\n",
            "1/1 [==============================] - 0s 8ms/step - loss: 0.1227 - acc: 1.0000\n",
            "Epoch 290/500\n",
            "1/1 [==============================] - 0s 6ms/step - loss: 0.1222 - acc: 1.0000\n",
            "Epoch 291/500\n",
            "1/1 [==============================] - 0s 5ms/step - loss: 0.1217 - acc: 1.0000\n",
            "Epoch 292/500\n",
            "1/1 [==============================] - 0s 17ms/step - loss: 0.1212 - acc: 1.0000\n",
            "Epoch 293/500\n",
            "1/1 [==============================] - 0s 6ms/step - loss: 0.1207 - acc: 1.0000\n",
            "Epoch 294/500\n",
            "1/1 [==============================] - 0s 10ms/step - loss: 0.1202 - acc: 1.0000\n",
            "Epoch 295/500\n",
            "1/1 [==============================] - 0s 7ms/step - loss: 0.1198 - acc: 1.0000\n",
            "Epoch 296/500\n",
            "1/1 [==============================] - 0s 6ms/step - loss: 0.1193 - acc: 1.0000\n",
            "Epoch 297/500\n",
            "1/1 [==============================] - 0s 5ms/step - loss: 0.1188 - acc: 1.0000\n",
            "Epoch 298/500\n",
            "1/1 [==============================] - 0s 6ms/step - loss: 0.1183 - acc: 1.0000\n",
            "Epoch 299/500\n",
            "1/1 [==============================] - 0s 8ms/step - loss: 0.1178 - acc: 1.0000\n",
            "Epoch 300/500\n",
            "1/1 [==============================] - 0s 8ms/step - loss: 0.1173 - acc: 1.0000\n",
            "Epoch 301/500\n",
            "1/1 [==============================] - 0s 6ms/step - loss: 0.1169 - acc: 1.0000\n",
            "Epoch 302/500\n",
            "1/1 [==============================] - 0s 11ms/step - loss: 0.1164 - acc: 1.0000\n",
            "Epoch 303/500\n",
            "1/1 [==============================] - 0s 13ms/step - loss: 0.1159 - acc: 1.0000\n",
            "Epoch 304/500\n",
            "1/1 [==============================] - 0s 9ms/step - loss: 0.1154 - acc: 1.0000\n",
            "Epoch 305/500\n",
            "1/1 [==============================] - 0s 7ms/step - loss: 0.1149 - acc: 1.0000\n",
            "Epoch 306/500\n",
            "1/1 [==============================] - 0s 5ms/step - loss: 0.1145 - acc: 1.0000\n",
            "Epoch 307/500\n",
            "1/1 [==============================] - 0s 4ms/step - loss: 0.1140 - acc: 1.0000\n",
            "Epoch 308/500\n",
            "1/1 [==============================] - 0s 4ms/step - loss: 0.1135 - acc: 1.0000\n",
            "Epoch 309/500\n",
            "1/1 [==============================] - 0s 4ms/step - loss: 0.1130 - acc: 1.0000\n",
            "Epoch 310/500\n",
            "1/1 [==============================] - 0s 8ms/step - loss: 0.1126 - acc: 1.0000\n",
            "Epoch 311/500\n",
            "1/1 [==============================] - 0s 4ms/step - loss: 0.1121 - acc: 1.0000\n",
            "Epoch 312/500\n",
            "1/1 [==============================] - 0s 4ms/step - loss: 0.1116 - acc: 1.0000\n",
            "Epoch 313/500\n",
            "1/1 [==============================] - 0s 5ms/step - loss: 0.1111 - acc: 1.0000\n",
            "Epoch 314/500\n",
            "1/1 [==============================] - 0s 8ms/step - loss: 0.1107 - acc: 1.0000\n",
            "Epoch 315/500\n",
            "1/1 [==============================] - 0s 4ms/step - loss: 0.1102 - acc: 1.0000\n",
            "Epoch 316/500\n",
            "1/1 [==============================] - 0s 7ms/step - loss: 0.1097 - acc: 1.0000\n",
            "Epoch 317/500\n",
            "1/1 [==============================] - 0s 6ms/step - loss: 0.1093 - acc: 1.0000\n",
            "Epoch 318/500\n",
            "1/1 [==============================] - 0s 6ms/step - loss: 0.1088 - acc: 1.0000\n",
            "Epoch 319/500\n",
            "1/1 [==============================] - 0s 6ms/step - loss: 0.1084 - acc: 1.0000\n",
            "Epoch 320/500\n",
            "1/1 [==============================] - 0s 4ms/step - loss: 0.1079 - acc: 1.0000\n",
            "Epoch 321/500\n",
            "1/1 [==============================] - 0s 4ms/step - loss: 0.1074 - acc: 1.0000\n",
            "Epoch 322/500\n",
            "1/1 [==============================] - 0s 11ms/step - loss: 0.1070 - acc: 1.0000\n",
            "Epoch 323/500\n",
            "1/1 [==============================] - 0s 12ms/step - loss: 0.1065 - acc: 1.0000\n",
            "Epoch 324/500\n",
            "1/1 [==============================] - 0s 8ms/step - loss: 0.1061 - acc: 1.0000\n",
            "Epoch 325/500\n",
            "1/1 [==============================] - 0s 5ms/step - loss: 0.1056 - acc: 1.0000\n",
            "Epoch 326/500\n",
            "1/1 [==============================] - 0s 7ms/step - loss: 0.1051 - acc: 1.0000\n",
            "Epoch 327/500\n",
            "1/1 [==============================] - 0s 5ms/step - loss: 0.1047 - acc: 1.0000\n",
            "Epoch 328/500\n",
            "1/1 [==============================] - 0s 6ms/step - loss: 0.1042 - acc: 1.0000\n",
            "Epoch 329/500\n",
            "1/1 [==============================] - 0s 4ms/step - loss: 0.1038 - acc: 1.0000\n",
            "Epoch 330/500\n",
            "1/1 [==============================] - 0s 7ms/step - loss: 0.1033 - acc: 1.0000\n",
            "Epoch 331/500\n",
            "1/1 [==============================] - 0s 8ms/step - loss: 0.1029 - acc: 1.0000\n",
            "Epoch 332/500\n",
            "1/1 [==============================] - 0s 5ms/step - loss: 0.1024 - acc: 1.0000\n",
            "Epoch 333/500\n",
            "1/1 [==============================] - 0s 7ms/step - loss: 0.1020 - acc: 1.0000\n",
            "Epoch 334/500\n",
            "1/1 [==============================] - 0s 4ms/step - loss: 0.1015 - acc: 1.0000\n",
            "Epoch 335/500\n",
            "1/1 [==============================] - 0s 7ms/step - loss: 0.1011 - acc: 1.0000\n",
            "Epoch 336/500\n",
            "1/1 [==============================] - 0s 14ms/step - loss: 0.1006 - acc: 1.0000\n",
            "Epoch 337/500\n",
            "1/1 [==============================] - 0s 11ms/step - loss: 0.1002 - acc: 1.0000\n",
            "Epoch 338/500\n",
            "1/1 [==============================] - 0s 11ms/step - loss: 0.0997 - acc: 1.0000\n",
            "Epoch 339/500\n",
            "1/1 [==============================] - 0s 8ms/step - loss: 0.0993 - acc: 1.0000\n",
            "Epoch 340/500\n",
            "1/1 [==============================] - 0s 13ms/step - loss: 0.0989 - acc: 1.0000\n",
            "Epoch 341/500\n",
            "1/1 [==============================] - 0s 14ms/step - loss: 0.0984 - acc: 1.0000\n",
            "Epoch 342/500\n",
            "1/1 [==============================] - 0s 12ms/step - loss: 0.0980 - acc: 1.0000\n",
            "Epoch 343/500\n",
            "1/1 [==============================] - 0s 6ms/step - loss: 0.0976 - acc: 1.0000\n",
            "Epoch 344/500\n",
            "1/1 [==============================] - 0s 13ms/step - loss: 0.0971 - acc: 1.0000\n",
            "Epoch 345/500\n",
            "1/1 [==============================] - 0s 5ms/step - loss: 0.0967 - acc: 1.0000\n",
            "Epoch 346/500\n",
            "1/1 [==============================] - 0s 8ms/step - loss: 0.0963 - acc: 1.0000\n",
            "Epoch 347/500\n",
            "1/1 [==============================] - 0s 9ms/step - loss: 0.0958 - acc: 1.0000\n",
            "Epoch 348/500\n",
            "1/1 [==============================] - 0s 12ms/step - loss: 0.0954 - acc: 1.0000\n",
            "Epoch 349/500\n",
            "1/1 [==============================] - 0s 5ms/step - loss: 0.0950 - acc: 1.0000\n",
            "Epoch 350/500\n",
            "1/1 [==============================] - 0s 7ms/step - loss: 0.0946 - acc: 1.0000\n",
            "Epoch 351/500\n",
            "1/1 [==============================] - 0s 12ms/step - loss: 0.0941 - acc: 1.0000\n",
            "Epoch 352/500\n",
            "1/1 [==============================] - 0s 9ms/step - loss: 0.0937 - acc: 1.0000\n",
            "Epoch 353/500\n",
            "1/1 [==============================] - 0s 8ms/step - loss: 0.0933 - acc: 1.0000\n",
            "Epoch 354/500\n",
            "1/1 [==============================] - 0s 7ms/step - loss: 0.0929 - acc: 1.0000\n",
            "Epoch 355/500\n",
            "1/1 [==============================] - 0s 6ms/step - loss: 0.0925 - acc: 1.0000\n",
            "Epoch 356/500\n",
            "1/1 [==============================] - 0s 5ms/step - loss: 0.0920 - acc: 1.0000\n",
            "Epoch 357/500\n",
            "1/1 [==============================] - 0s 7ms/step - loss: 0.0916 - acc: 1.0000\n",
            "Epoch 358/500\n",
            "1/1 [==============================] - 0s 5ms/step - loss: 0.0912 - acc: 1.0000\n",
            "Epoch 359/500\n",
            "1/1 [==============================] - 0s 9ms/step - loss: 0.0908 - acc: 1.0000\n",
            "Epoch 360/500\n",
            "1/1 [==============================] - 0s 12ms/step - loss: 0.0904 - acc: 1.0000\n",
            "Epoch 361/500\n",
            "1/1 [==============================] - 0s 9ms/step - loss: 0.0900 - acc: 1.0000\n",
            "Epoch 362/500\n",
            "1/1 [==============================] - 0s 17ms/step - loss: 0.0895 - acc: 1.0000\n",
            "Epoch 363/500\n",
            "1/1 [==============================] - 0s 11ms/step - loss: 0.0891 - acc: 1.0000\n",
            "Epoch 364/500\n",
            "1/1 [==============================] - 0s 12ms/step - loss: 0.0887 - acc: 1.0000\n",
            "Epoch 365/500\n",
            "1/1 [==============================] - 0s 5ms/step - loss: 0.0883 - acc: 1.0000\n",
            "Epoch 366/500\n",
            "1/1 [==============================] - 0s 5ms/step - loss: 0.0879 - acc: 1.0000\n",
            "Epoch 367/500\n",
            "1/1 [==============================] - 0s 5ms/step - loss: 0.0875 - acc: 1.0000\n",
            "Epoch 368/500\n",
            "1/1 [==============================] - 0s 6ms/step - loss: 0.0871 - acc: 1.0000\n",
            "Epoch 369/500\n",
            "1/1 [==============================] - 0s 6ms/step - loss: 0.0867 - acc: 1.0000\n",
            "Epoch 370/500\n",
            "1/1 [==============================] - 0s 7ms/step - loss: 0.0863 - acc: 1.0000\n",
            "Epoch 371/500\n",
            "1/1 [==============================] - 0s 6ms/step - loss: 0.0859 - acc: 1.0000\n",
            "Epoch 372/500\n",
            "1/1 [==============================] - 0s 7ms/step - loss: 0.0855 - acc: 1.0000\n",
            "Epoch 373/500\n",
            "1/1 [==============================] - 0s 8ms/step - loss: 0.0851 - acc: 1.0000\n",
            "Epoch 374/500\n",
            "1/1 [==============================] - 0s 7ms/step - loss: 0.0847 - acc: 1.0000\n",
            "Epoch 375/500\n",
            "1/1 [==============================] - 0s 4ms/step - loss: 0.0843 - acc: 1.0000\n",
            "Epoch 376/500\n",
            "1/1 [==============================] - 0s 10ms/step - loss: 0.0840 - acc: 1.0000\n",
            "Epoch 377/500\n",
            "1/1 [==============================] - 0s 8ms/step - loss: 0.0836 - acc: 1.0000\n",
            "Epoch 378/500\n",
            "1/1 [==============================] - 0s 15ms/step - loss: 0.0832 - acc: 1.0000\n",
            "Epoch 379/500\n",
            "1/1 [==============================] - 0s 10ms/step - loss: 0.0828 - acc: 1.0000\n",
            "Epoch 380/500\n",
            "1/1 [==============================] - 0s 7ms/step - loss: 0.0824 - acc: 1.0000\n",
            "Epoch 381/500\n",
            "1/1 [==============================] - 0s 4ms/step - loss: 0.0820 - acc: 1.0000\n",
            "Epoch 382/500\n",
            "1/1 [==============================] - 0s 5ms/step - loss: 0.0816 - acc: 1.0000\n",
            "Epoch 383/500\n",
            "1/1 [==============================] - 0s 16ms/step - loss: 0.0813 - acc: 1.0000\n",
            "Epoch 384/500\n",
            "1/1 [==============================] - 0s 7ms/step - loss: 0.0809 - acc: 1.0000\n",
            "Epoch 385/500\n",
            "1/1 [==============================] - 0s 6ms/step - loss: 0.0805 - acc: 1.0000\n",
            "Epoch 386/500\n",
            "1/1 [==============================] - 0s 12ms/step - loss: 0.0801 - acc: 1.0000\n",
            "Epoch 387/500\n",
            "1/1 [==============================] - 0s 4ms/step - loss: 0.0797 - acc: 1.0000\n",
            "Epoch 388/500\n",
            "1/1 [==============================] - 0s 8ms/step - loss: 0.0794 - acc: 1.0000\n",
            "Epoch 389/500\n",
            "1/1 [==============================] - 0s 10ms/step - loss: 0.0790 - acc: 1.0000\n",
            "Epoch 390/500\n",
            "1/1 [==============================] - 0s 6ms/step - loss: 0.0786 - acc: 1.0000\n",
            "Epoch 391/500\n",
            "1/1 [==============================] - 0s 5ms/step - loss: 0.0783 - acc: 1.0000\n",
            "Epoch 392/500\n",
            "1/1 [==============================] - 0s 6ms/step - loss: 0.0779 - acc: 1.0000\n",
            "Epoch 393/500\n",
            "1/1 [==============================] - 0s 5ms/step - loss: 0.0775 - acc: 1.0000\n",
            "Epoch 394/500\n",
            "1/1 [==============================] - 0s 8ms/step - loss: 0.0772 - acc: 1.0000\n",
            "Epoch 395/500\n",
            "1/1 [==============================] - 0s 4ms/step - loss: 0.0768 - acc: 1.0000\n",
            "Epoch 396/500\n",
            "1/1 [==============================] - 0s 4ms/step - loss: 0.0764 - acc: 1.0000\n",
            "Epoch 397/500\n",
            "1/1 [==============================] - 0s 4ms/step - loss: 0.0761 - acc: 1.0000\n",
            "Epoch 398/500\n",
            "1/1 [==============================] - 0s 19ms/step - loss: 0.0757 - acc: 1.0000\n",
            "Epoch 399/500\n",
            "1/1 [==============================] - 0s 6ms/step - loss: 0.0754 - acc: 1.0000\n",
            "Epoch 400/500\n",
            "1/1 [==============================] - 0s 9ms/step - loss: 0.0750 - acc: 1.0000\n",
            "Epoch 401/500\n",
            "1/1 [==============================] - 0s 6ms/step - loss: 0.0746 - acc: 1.0000\n",
            "Epoch 402/500\n",
            "1/1 [==============================] - 0s 4ms/step - loss: 0.0743 - acc: 1.0000\n",
            "Epoch 403/500\n",
            "1/1 [==============================] - 0s 6ms/step - loss: 0.0739 - acc: 1.0000\n",
            "Epoch 404/500\n",
            "1/1 [==============================] - 0s 9ms/step - loss: 0.0736 - acc: 1.0000\n",
            "Epoch 405/500\n",
            "1/1 [==============================] - 0s 9ms/step - loss: 0.0732 - acc: 1.0000\n",
            "Epoch 406/500\n",
            "1/1 [==============================] - 0s 7ms/step - loss: 0.0729 - acc: 1.0000\n",
            "Epoch 407/500\n",
            "1/1 [==============================] - 0s 5ms/step - loss: 0.0725 - acc: 1.0000\n",
            "Epoch 408/500\n",
            "1/1 [==============================] - 0s 9ms/step - loss: 0.0722 - acc: 1.0000\n",
            "Epoch 409/500\n",
            "1/1 [==============================] - 0s 8ms/step - loss: 0.0718 - acc: 1.0000\n",
            "Epoch 410/500\n",
            "1/1 [==============================] - 0s 8ms/step - loss: 0.0715 - acc: 1.0000\n",
            "Epoch 411/500\n",
            "1/1 [==============================] - 0s 7ms/step - loss: 0.0712 - acc: 1.0000\n",
            "Epoch 412/500\n",
            "1/1 [==============================] - 0s 9ms/step - loss: 0.0708 - acc: 1.0000\n",
            "Epoch 413/500\n",
            "1/1 [==============================] - 0s 6ms/step - loss: 0.0705 - acc: 1.0000\n",
            "Epoch 414/500\n",
            "1/1 [==============================] - 0s 10ms/step - loss: 0.0701 - acc: 1.0000\n",
            "Epoch 415/500\n",
            "1/1 [==============================] - 0s 6ms/step - loss: 0.0698 - acc: 1.0000\n",
            "Epoch 416/500\n",
            "1/1 [==============================] - 0s 4ms/step - loss: 0.0695 - acc: 1.0000\n",
            "Epoch 417/500\n",
            "1/1 [==============================] - 0s 9ms/step - loss: 0.0691 - acc: 1.0000\n",
            "Epoch 418/500\n",
            "1/1 [==============================] - 0s 8ms/step - loss: 0.0688 - acc: 1.0000\n",
            "Epoch 419/500\n",
            "1/1 [==============================] - 0s 8ms/step - loss: 0.0685 - acc: 1.0000\n",
            "Epoch 420/500\n",
            "1/1 [==============================] - 0s 11ms/step - loss: 0.0682 - acc: 1.0000\n",
            "Epoch 421/500\n",
            "1/1 [==============================] - 0s 10ms/step - loss: 0.0678 - acc: 1.0000\n",
            "Epoch 422/500\n",
            "1/1 [==============================] - 0s 19ms/step - loss: 0.0675 - acc: 1.0000\n",
            "Epoch 423/500\n",
            "1/1 [==============================] - 0s 9ms/step - loss: 0.0672 - acc: 1.0000\n",
            "Epoch 424/500\n",
            "1/1 [==============================] - 0s 7ms/step - loss: 0.0669 - acc: 1.0000\n",
            "Epoch 425/500\n",
            "1/1 [==============================] - 0s 14ms/step - loss: 0.0665 - acc: 1.0000\n",
            "Epoch 426/500\n",
            "1/1 [==============================] - 0s 10ms/step - loss: 0.0662 - acc: 1.0000\n",
            "Epoch 427/500\n",
            "1/1 [==============================] - 0s 5ms/step - loss: 0.0659 - acc: 1.0000\n",
            "Epoch 428/500\n",
            "1/1 [==============================] - 0s 6ms/step - loss: 0.0656 - acc: 1.0000\n",
            "Epoch 429/500\n",
            "1/1 [==============================] - 0s 6ms/step - loss: 0.0653 - acc: 1.0000\n",
            "Epoch 430/500\n",
            "1/1 [==============================] - 0s 5ms/step - loss: 0.0650 - acc: 1.0000\n",
            "Epoch 431/500\n",
            "1/1 [==============================] - 0s 8ms/step - loss: 0.0647 - acc: 1.0000\n",
            "Epoch 432/500\n",
            "1/1 [==============================] - 0s 10ms/step - loss: 0.0643 - acc: 1.0000\n",
            "Epoch 433/500\n",
            "1/1 [==============================] - 0s 7ms/step - loss: 0.0640 - acc: 1.0000\n",
            "Epoch 434/500\n",
            "1/1 [==============================] - 0s 9ms/step - loss: 0.0637 - acc: 1.0000\n",
            "Epoch 435/500\n",
            "1/1 [==============================] - 0s 8ms/step - loss: 0.0634 - acc: 1.0000\n",
            "Epoch 436/500\n",
            "1/1 [==============================] - 0s 12ms/step - loss: 0.0631 - acc: 1.0000\n",
            "Epoch 437/500\n",
            "1/1 [==============================] - 0s 4ms/step - loss: 0.0628 - acc: 1.0000\n",
            "Epoch 438/500\n",
            "1/1 [==============================] - 0s 10ms/step - loss: 0.0625 - acc: 1.0000\n",
            "Epoch 439/500\n",
            "1/1 [==============================] - 0s 9ms/step - loss: 0.0622 - acc: 1.0000\n",
            "Epoch 440/500\n",
            "1/1 [==============================] - 0s 5ms/step - loss: 0.0619 - acc: 1.0000\n",
            "Epoch 441/500\n",
            "1/1 [==============================] - 0s 9ms/step - loss: 0.0616 - acc: 1.0000\n",
            "Epoch 442/500\n",
            "1/1 [==============================] - 0s 9ms/step - loss: 0.0613 - acc: 1.0000\n",
            "Epoch 443/500\n",
            "1/1 [==============================] - 0s 4ms/step - loss: 0.0610 - acc: 1.0000\n",
            "Epoch 444/500\n",
            "1/1 [==============================] - 0s 10ms/step - loss: 0.0607 - acc: 1.0000\n",
            "Epoch 445/500\n",
            "1/1 [==============================] - 0s 4ms/step - loss: 0.0604 - acc: 1.0000\n",
            "Epoch 446/500\n",
            "1/1 [==============================] - 0s 11ms/step - loss: 0.0602 - acc: 1.0000\n",
            "Epoch 447/500\n",
            "1/1 [==============================] - 0s 8ms/step - loss: 0.0599 - acc: 1.0000\n",
            "Epoch 448/500\n",
            "1/1 [==============================] - 0s 7ms/step - loss: 0.0596 - acc: 1.0000\n",
            "Epoch 449/500\n",
            "1/1 [==============================] - 0s 15ms/step - loss: 0.0593 - acc: 1.0000\n",
            "Epoch 450/500\n",
            "1/1 [==============================] - 0s 6ms/step - loss: 0.0590 - acc: 1.0000\n",
            "Epoch 451/500\n",
            "1/1 [==============================] - 0s 12ms/step - loss: 0.0587 - acc: 1.0000\n",
            "Epoch 452/500\n",
            "1/1 [==============================] - 0s 5ms/step - loss: 0.0584 - acc: 1.0000\n",
            "Epoch 453/500\n",
            "1/1 [==============================] - 0s 12ms/step - loss: 0.0581 - acc: 1.0000\n",
            "Epoch 454/500\n",
            "1/1 [==============================] - 0s 5ms/step - loss: 0.0579 - acc: 1.0000\n",
            "Epoch 455/500\n",
            "1/1 [==============================] - 0s 9ms/step - loss: 0.0576 - acc: 1.0000\n",
            "Epoch 456/500\n",
            "1/1 [==============================] - 0s 5ms/step - loss: 0.0573 - acc: 1.0000\n",
            "Epoch 457/500\n",
            "1/1 [==============================] - 0s 9ms/step - loss: 0.0570 - acc: 1.0000\n",
            "Epoch 458/500\n",
            "1/1 [==============================] - 0s 8ms/step - loss: 0.0568 - acc: 1.0000\n",
            "Epoch 459/500\n",
            "1/1 [==============================] - 0s 6ms/step - loss: 0.0565 - acc: 1.0000\n",
            "Epoch 460/500\n",
            "1/1 [==============================] - 0s 5ms/step - loss: 0.0562 - acc: 1.0000\n",
            "Epoch 461/500\n",
            "1/1 [==============================] - 0s 12ms/step - loss: 0.0560 - acc: 1.0000\n",
            "Epoch 462/500\n",
            "1/1 [==============================] - 0s 4ms/step - loss: 0.0557 - acc: 1.0000\n",
            "Epoch 463/500\n",
            "1/1 [==============================] - 0s 9ms/step - loss: 0.0554 - acc: 1.0000\n",
            "Epoch 464/500\n",
            "1/1 [==============================] - 0s 5ms/step - loss: 0.0551 - acc: 1.0000\n",
            "Epoch 465/500\n",
            "1/1 [==============================] - 0s 6ms/step - loss: 0.0549 - acc: 1.0000\n",
            "Epoch 466/500\n",
            "1/1 [==============================] - 0s 13ms/step - loss: 0.0546 - acc: 1.0000\n",
            "Epoch 467/500\n",
            "1/1 [==============================] - 0s 8ms/step - loss: 0.0543 - acc: 1.0000\n",
            "Epoch 468/500\n",
            "1/1 [==============================] - 0s 13ms/step - loss: 0.0541 - acc: 1.0000\n",
            "Epoch 469/500\n",
            "1/1 [==============================] - 0s 4ms/step - loss: 0.0538 - acc: 1.0000\n",
            "Epoch 470/500\n",
            "1/1 [==============================] - 0s 12ms/step - loss: 0.0536 - acc: 1.0000\n",
            "Epoch 471/500\n",
            "1/1 [==============================] - 0s 5ms/step - loss: 0.0533 - acc: 1.0000\n",
            "Epoch 472/500\n",
            "1/1 [==============================] - 0s 12ms/step - loss: 0.0531 - acc: 1.0000\n",
            "Epoch 473/500\n",
            "1/1 [==============================] - 0s 6ms/step - loss: 0.0528 - acc: 1.0000\n",
            "Epoch 474/500\n",
            "1/1 [==============================] - 0s 40ms/step - loss: 0.0525 - acc: 1.0000\n",
            "Epoch 475/500\n",
            "1/1 [==============================] - 0s 12ms/step - loss: 0.0523 - acc: 1.0000\n",
            "Epoch 476/500\n",
            "1/1 [==============================] - 0s 8ms/step - loss: 0.0520 - acc: 1.0000\n",
            "Epoch 477/500\n",
            "1/1 [==============================] - 0s 18ms/step - loss: 0.0518 - acc: 1.0000\n",
            "Epoch 478/500\n",
            "1/1 [==============================] - 0s 11ms/step - loss: 0.0515 - acc: 1.0000\n",
            "Epoch 479/500\n",
            "1/1 [==============================] - 0s 10ms/step - loss: 0.0513 - acc: 1.0000\n",
            "Epoch 480/500\n",
            "1/1 [==============================] - 0s 12ms/step - loss: 0.0511 - acc: 1.0000\n",
            "Epoch 481/500\n",
            "1/1 [==============================] - 0s 8ms/step - loss: 0.0508 - acc: 1.0000\n",
            "Epoch 482/500\n",
            "1/1 [==============================] - 0s 10ms/step - loss: 0.0506 - acc: 1.0000\n",
            "Epoch 483/500\n",
            "1/1 [==============================] - 0s 8ms/step - loss: 0.0503 - acc: 1.0000\n",
            "Epoch 484/500\n",
            "1/1 [==============================] - 0s 4ms/step - loss: 0.0501 - acc: 1.0000\n",
            "Epoch 485/500\n",
            "1/1 [==============================] - 0s 10ms/step - loss: 0.0498 - acc: 1.0000\n",
            "Epoch 486/500\n",
            "1/1 [==============================] - 0s 10ms/step - loss: 0.0496 - acc: 1.0000\n",
            "Epoch 487/500\n",
            "1/1 [==============================] - 0s 10ms/step - loss: 0.0494 - acc: 1.0000\n",
            "Epoch 488/500\n",
            "1/1 [==============================] - 0s 18ms/step - loss: 0.0491 - acc: 1.0000\n",
            "Epoch 489/500\n",
            "1/1 [==============================] - 0s 9ms/step - loss: 0.0489 - acc: 1.0000\n",
            "Epoch 490/500\n",
            "1/1 [==============================] - 0s 5ms/step - loss: 0.0487 - acc: 1.0000\n",
            "Epoch 491/500\n",
            "1/1 [==============================] - 0s 11ms/step - loss: 0.0484 - acc: 1.0000\n",
            "Epoch 492/500\n",
            "1/1 [==============================] - 0s 10ms/step - loss: 0.0482 - acc: 1.0000\n",
            "Epoch 493/500\n",
            "1/1 [==============================] - 0s 12ms/step - loss: 0.0480 - acc: 1.0000\n",
            "Epoch 494/500\n",
            "1/1 [==============================] - 0s 5ms/step - loss: 0.0477 - acc: 1.0000\n",
            "Epoch 495/500\n",
            "1/1 [==============================] - 0s 5ms/step - loss: 0.0475 - acc: 1.0000\n",
            "Epoch 496/500\n",
            "1/1 [==============================] - 0s 5ms/step - loss: 0.0473 - acc: 1.0000\n",
            "Epoch 497/500\n",
            "1/1 [==============================] - 0s 8ms/step - loss: 0.0471 - acc: 1.0000\n",
            "Epoch 498/500\n",
            "1/1 [==============================] - 0s 10ms/step - loss: 0.0468 - acc: 1.0000\n",
            "Epoch 499/500\n",
            "1/1 [==============================] - 0s 4ms/step - loss: 0.0466 - acc: 1.0000\n",
            "Epoch 500/500\n",
            "1/1 [==============================] - 0s 12ms/step - loss: 0.0464 - acc: 1.0000\n"
          ]
        },
        {
          "output_type": "execute_result",
          "data": {
            "text/plain": [
              "<keras.callbacks.History at 0x7f3246307cd0>"
            ]
          },
          "metadata": {},
          "execution_count": 17
        }
      ]
    },
    {
      "cell_type": "markdown",
      "metadata": {
        "id": "h3oJuwb1W7IP"
      },
      "source": [
        "## 학습률에 따른 경사하강법(백견불여일타 책 참고)"
      ]
    },
    {
      "cell_type": "code",
      "metadata": {
        "id": "3W-1la0yV70c",
        "colab": {
          "base_uri": "https://localhost:8080/",
          "height": 457
        },
        "outputId": "be1ae2ae-5c8a-492d-a547-752d30a8f6e7"
      },
      "source": [
        "import numpy as np\n",
        "import matplotlib.pyplot as plt\n",
        "\n",
        "lr_list = [0.001, 0.1, 0.3, 0.9]\n",
        "\n",
        "def get_derivative(lr_list):\n",
        "\n",
        "  w_old = 2\n",
        "  derivative = [w_old]\n",
        "\n",
        "  y = [w_old ** 2] # 손실 함수를 y = x^2로 정의함.\n",
        "\n",
        "  for i in range(1,10):\n",
        "    #먼저 해당 위치에서 미분값을 구함\n",
        "\n",
        "    dev_value = w_old **2\n",
        "\n",
        "    #위의 값을 이용하여 가중치를 업데이트\n",
        "    w_new = w_old - lr * dev_value\n",
        "    w_old = w_new\n",
        "\n",
        "    derivative.append(w_old) #업데이트 된 가중치를 저장 함,.\n",
        "    y.append(w_old ** 2) #업데이트 된 가중치의 손실값을 저장 함.\n",
        "\n",
        "  return derivative, y\n",
        "\n",
        "x = np.linspace(-2,2,50) \n",
        "x_square = [i**2 for i in x]\n",
        "\n",
        "fig = plt.figure(figsize=(12, 7))\n",
        "\n",
        "for i,lr in enumerate(lr_list):\n",
        "  derivative, y =get_derivative(lr)\n",
        "  ax = fig.add_subplot(2, 2, i+1)\n",
        "  ax.scatter(derivative, y, color = 'red')\n",
        "  ax.plot(x, x_square)\n",
        "  ax.title.set_text('lr = '+str(lr))\n",
        "\n",
        "plt.show()"
      ],
      "execution_count": null,
      "outputs": [
        {
          "output_type": "display_data",
          "data": {
            "image/png": "[encoded data removed]",
            "text/plain": [
              "<Figure size 864x504 with 4 Axes>"
            ]
          },
          "metadata": {
            "needs_background": "light"
          }
        }
      ]
    },
    {
      "cell_type": "markdown",
      "metadata": {
        "id": "FI7y8LSXXGdg"
      },
      "source": [
        "## MNIST Dataset with perceptron(백견불여일타 책 참고)"
      ]
    },
    {
      "cell_type": "code",
      "metadata": {
        "id": "JUcl-axoW-0b"
      },
      "source": [
        "# MNIST 데이터를 다운로드 한다.\n",
        "import tensorflow as tf\n",
        "\n",
        "(X_train, y_train), (X_test, y_test) = tf.keras.datasets.mnist.load_data()"
      ],
      "execution_count": null,
      "outputs": []
    },
    {
      "cell_type": "code",
      "metadata": {
        "id": "uUPxEME8XOpM",
        "colab": {
          "base_uri": "https://localhost:8080/"
        },
        "outputId": "d03c92d4-7a77-4130-83c0-c999f96a1a57"
      },
      "source": [
        "print(X_train.shape, y_train.shape,X_test.shape,y_test.shape)"
      ],
      "execution_count": null,
      "outputs": [
        {
          "output_type": "stream",
          "name": "stdout",
          "text": [
            "(60000, 28, 28) (60000,) (10000, 28, 28) (10000,)\n"
          ]
        }
      ]
    },
    {
      "cell_type": "code",
      "metadata": {
        "id": "B90Ve56iXP9e",
        "colab": {
          "base_uri": "https://localhost:8080/",
          "height": 1000
        },
        "outputId": "e5b01798-6e02-4a5d-9d18-9de19de55b69"
      },
      "source": [
        "import matplotlib.pyplot as plt\n",
        "import numpy as np\n",
        "\n",
        "sample_size = 10\n",
        "# 0~59999이 범위에서 세 개의 정수를 뽑는다.\n",
        "random_idx = np.random.randint(60000, size = sample_size)\n",
        "\n",
        "for idx in random_idx:\n",
        "  img = X_train[idx, :]\n",
        "  label = y_train[idx]\n",
        "  plt.figure()\n",
        "  plt.imshow(img)\n",
        "  plt.title('%d-th data, label is %d' %(idx, label))"
      ],
      "execution_count": null,
      "outputs": [
        {
          "output_type": "display_data",
          "data": {
            "image/png": "[encoded data removed]",
            "text/plain": [
              "<Figure size 432x288 with 1 Axes>"
            ]
          },
          "metadata": {
            "needs_background": "light"
          }
        },
        {
          "output_type": "display_data",
          "data": {
            "image/png": "[encoded data removed]",
            "text/plain": [
              "<Figure size 432x288 with 1 Axes>"
            ]
          },
          "metadata": {
            "needs_background": "light"
          }
        },
        {
          "output_type": "display_data",
          "data": {
            "image/png": "[encoded data removed]",
            "text/plain": [
              "<Figure size 432x288 with 1 Axes>"
            ]
          },
          "metadata": {
            "needs_background": "light"
          }
        },
        {
          "output_type": "display_data",
          "data": {
            "image/png": "[encoded data removed]",
            "text/plain": [
              "<Figure size 432x288 with 1 Axes>"
            ]
          },
          "metadata": {
            "needs_background": "light"
          }
        },
        {
          "output_type": "display_data",
          "data": {
            "image/png": "[encoded data removed]",
            "text/plain": [
              "<Figure size 432x288 with 1 Axes>"
            ]
          },
          "metadata": {
            "needs_background": "light"
          }
        },
        {
          "output_type": "display_data",
          "data": {
            "image/png": "[encoded data removed]",
            "text/plain": [
              "<Figure size 432x288 with 1 Axes>"
            ]
          },
          "metadata": {
            "needs_background": "light"
          }
        },
        {
          "output_type": "display_data",
          "data": {
            "image/png": "[encoded data removed]",
            "text/plain": [
              "<Figure size 432x288 with 1 Axes>"
            ]
          },
          "metadata": {
            "needs_background": "light"
          }
        },
        {
          "output_type": "display_data",
          "data": {
            "image/png": "[encoded data removed]",
            "text/plain": [
              "<Figure size 432x288 with 1 Axes>"
            ]
          },
          "metadata": {
            "needs_background": "light"
          }
        },
        {
          "output_type": "display_data",
          "data": {
            "image/png": "[encoded data removed]",
            "text/plain": [
              "<Figure size 432x288 with 1 Axes>"
            ]
          },
          "metadata": {
            "needs_background": "light"
          }
        },
        {
          "output_type": "display_data",
          "data": {
            "image/png": "[encoded data removed]",
            "text/plain": [
              "<Figure size 432x288 with 1 Axes>"
            ]
          },
          "metadata": {
            "needs_background": "light"
          }
        }
      ]
    },
    {
      "cell_type": "code",
      "metadata": {
        "id": "-dUJPTExEZIW"
      },
      "source": [
        "X_train = X_train.astype('float32')   # change integers to 32-bit floating point numbers\n",
        "X_test = X_test.astype('float32')\n",
        "\n",
        "X_train /= 255                        # normalize each value for each pixel for the entire vector for each input\n",
        "X_test /= 255"
      ],
      "execution_count": null,
      "outputs": []
    },
    {
      "cell_type": "code",
      "metadata": {
        "id": "-vdpjfjZXRgF",
        "colab": {
          "base_uri": "https://localhost:8080/"
        },
        "outputId": "7659a623-a582-4353-cd4d-d7aec35c6c15"
      },
      "source": [
        "# 검증 데이터 만들기\n",
        "#sklearn : machine learning package\n",
        "from sklearn.model_selection import train_test_split\n",
        "\n",
        "#훈련/테스트 데이터를 0.7/0.3 의 비율로 분리\n",
        "\n",
        "X_train,X_val,y_train,y_val = train_test_split(X_train,y_train, test_size = 0.3, random_state =777) # test size는 테스트셋의 비율 의미. random_state는 재산성을 위해 사용(random_seed와 동일)\n",
        "\n",
        "print(f'훈련 데이터 {X_train.shape} 레이블 {y_train.shape}')\n",
        "print(f'검증 데이터 {X_val.shape} 레이블 {y_val.shape}')"
      ],
      "execution_count": null,
      "outputs": [
        {
          "output_type": "stream",
          "name": "stdout",
          "text": [
            "훈련 데이터 (42000, 28, 28) 레이블 (42000,)\n",
            "검증 데이터 (18000, 28, 28) 레이블 (18000,)\n"
          ]
        }
      ]
    },
    {
      "cell_type": "code",
      "metadata": {
        "id": "0adeiutyXXN_",
        "colab": {
          "base_uri": "https://localhost:8080/"
        },
        "outputId": "b0585d84-f5e5-4817-f35d-15d3827e39cb"
      },
      "source": [
        "num_X_train = X_train.shape[0] \n",
        "num_X_val = X_val.shape[0] \n",
        "num_X_test = X_test.shape[0] \n",
        "\n",
        "#모델에 입력하기 전 전처리 과정.\n",
        "X_train = (X_train.reshape((num_X_train, 28*28))) / 255 \n",
        "X_val = (X_val.reshape((num_X_val, 28*28))) / 255\n",
        "X_test = (X_test.reshape((num_X_test, 28*28)))/ 255\n",
        "\n",
        "print(X_train.shape)  # 모델 입력을 위해 데이터를 784차원으로 변경 / Flatten()"
      ],
      "execution_count": null,
      "outputs": [
        {
          "output_type": "stream",
          "name": "stdout",
          "text": [
            "(42000, 784)\n"
          ]
        }
      ]
    },
    {
      "cell_type": "code",
      "metadata": {
        "colab": {
          "base_uri": "https://localhost:8080/"
        },
        "id": "gqWM13J_I2DN",
        "outputId": "c5f3eb07-632c-4707-9c7b-92398cbc607c"
      },
      "source": [
        "y_train"
      ],
      "execution_count": null,
      "outputs": [
        {
          "output_type": "execute_result",
          "data": {
            "text/plain": [
              "array([2, 7, 6, ..., 3, 4, 5], dtype=uint8)"
            ]
          },
          "metadata": {},
          "execution_count": 7
        }
      ]
    },
    {
      "cell_type": "markdown",
      "metadata": {
        "id": "kHFMdDwSXbHB"
      },
      "source": [
        "(28,28) 형태의 데이터를 784차원의 1차원 배열로 변환 한것을 볼 수 있다. 신경망은 입력 데이터의 스케일에 매우 민감하므로 적절한 전처리 과정이 필수.\n",
        "\n",
        "이에 대한 큰 이유로는 그래디언트 손실과 그래디언트 폭발로 인해 학습이 진행되지 않기 때문. 우리가 숫자 이미지 데이터는 각 픽셀 값이 0~255의 범위에 있기 때문에 255로 나누어 줌.\n",
        "\n",
        "**여러 가지의 전처리 방법- 스케일링 방법**\n",
        "\n",
        "Normalization(Min Max) :  $X$ = ${\\dfrac {x-x_{min}}{x_{max}-x_{min}}}$\n",
        "\n",
        "Robust Normalization :  $X$ = ${\\dfrac {x-x_{2/4}}{x_{3/4}-x_{1/4}}}$\n",
        "\n",
        "Standardization : $X$ = ${\\dfrac {x-x_{mean}}{x_{std}}}$"
      ]
    },
    {
      "cell_type": "code",
      "metadata": {
        "id": "Z7y2qfsyXYg5",
        "colab": {
          "base_uri": "https://localhost:8080/"
        },
        "outputId": "699fca27-bbb9-45c6-9c40-93744a7cb927"
      },
      "source": [
        "from tensorflow.keras.utils import to_categorical\n",
        "\n",
        "#각 데이터의 레이블을 범주형 형태로 변경.\n",
        "\n",
        "y_train = to_categorical(y_train)\n",
        "y_val = to_categorical(y_val)\n",
        "y_test = to_categorical(y_test)\n",
        "\n",
        "print(y_train)"
      ],
      "execution_count": null,
      "outputs": [
        {
          "output_type": "stream",
          "name": "stdout",
          "text": [
            "[[0. 0. 1. ... 0. 0. 0.]\n",
            " [0. 0. 0. ... 1. 0. 0.]\n",
            " [0. 0. 0. ... 0. 0. 0.]\n",
            " ...\n",
            " [0. 0. 0. ... 0. 0. 0.]\n",
            " [0. 0. 0. ... 0. 0. 0.]\n",
            " [0. 0. 0. ... 0. 0. 0.]]\n"
          ]
        }
      ]
    },
    {
      "cell_type": "code",
      "metadata": {
        "id": "HdkbLRfRXlMI"
      },
      "source": [
        "# 모델 구성하기\n",
        "\n",
        "from tensorflow.keras.models import Sequential\n",
        "from tensorflow.keras.layers import Dense\n",
        "\n",
        "model = Sequential()\n",
        "#입력 데이터의 형태를 명시해야됨.\n",
        "# 784 차원의 데이터를 입력을 받고, 64개의 출력을 가지는 첫번째 Dense 층\n",
        "model.add(Dense(64, activation = 'relu', input_shape = (784, ) ) )\n",
        "model.add(Dense(32, activation = 'relu')) #32개의 출력을 가지는 Dense층\n",
        "model.add(Dense(10, activation = 'softmax')) # 10개의 출력을 가지는 신경망"
      ],
      "execution_count": null,
      "outputs": []
    },
    {
      "cell_type": "code",
      "metadata": {
        "colab": {
          "base_uri": "https://localhost:8080/"
        },
        "id": "RfseZO4fXmAI",
        "outputId": "a9dfba71-69a7-4120-f1b7-729474dcffc5"
      },
      "source": [
        "def softmax(arr):\n",
        "  m = np.max(arr)\n",
        "  arr = arr - m #exp의 오버플로우 방지  참고 : https://mkmehpp.tistory.com/2\n",
        "  arr = np.exp(arr)\n",
        "  return arr/ np.sum(arr)\n",
        "\n",
        "def sigmoid(x):\n",
        "  return 1/(1+np.exp(-x))\n",
        "\n",
        "case_1 = np.array([3.1, 3.0, 2.9])\n",
        "case_2 = np.array([2.0, 1.0, 0.7])\n",
        "\n",
        "np.set_printoptions(precision=3)\n",
        "print(f'sigmoid {sigmoid(case_1)}, softmax {softmax(case_1)}')\n",
        "print(f'sigmoid {sigmoid(case_2)}, softmax {softmax(case_2)}')"
      ],
      "execution_count": null,
      "outputs": [
        {
          "output_type": "stream",
          "name": "stdout",
          "text": [
            "sigmoid [0.957 0.953 0.948], softmax [0.367 0.332 0.301]\n",
            "sigmoid [0.881 0.731 0.668], softmax [0.61  0.224 0.166]\n"
          ]
        }
      ]
    },
    {
      "cell_type": "code",
      "metadata": {
        "id": "9MQ9nyWJRNv5"
      },
      "source": [
        "# from tensorflow.keras.utils import to_categorical\n",
        "\n",
        "# #각 데이터의 레이블을 범주형 형태로 변경.\n",
        "\n",
        "# y_train = to_categorical(y_train)\n",
        "# y_val = to_categorical(y_val)\n",
        "# y_test = to_categorical(y_test)\n",
        "\n",
        "# print(y_train)"
      ],
      "execution_count": null,
      "outputs": []
    },
    {
      "cell_type": "markdown",
      "metadata": {
        "id": "Hf0hw7HjRM3h"
      },
      "source": [
        "범주형 형태로 바뀌기 귀찮다 -> loss = 'sparse_categorical_crossentropy'"
      ]
    },
    {
      "cell_type": "markdown",
      "metadata": {
        "id": "eUoDyzJCRYfL"
      },
      "source": [
        "binary -> loss = 'binary_crossentropy'"
      ]
    },
    {
      "cell_type": "code",
      "metadata": {
        "id": "b-_l69X3XnVi"
      },
      "source": [
        "# 학습과정 설정하기.\n",
        "model.compile(optimizer = 'adam', #옵티마이저 : Adam\n",
        "              #손실함수 : categorical_crossentropy\n",
        "              loss = 'categorical_crossentropy',\n",
        "              # 모니터링 할 평가지표 : acc\n",
        "              metrics = ['acc'])"
      ],
      "execution_count": null,
      "outputs": []
    },
    {
      "cell_type": "code",
      "metadata": {
        "colab": {
          "base_uri": "https://localhost:8080/"
        },
        "id": "oBZdXLNbXo3A",
        "outputId": "31f10f6d-6d19-484e-e1cd-af2ffda6d40a"
      },
      "source": [
        "# 모델 학습하기\n",
        "history = model.fit(X_train, y_train,\n",
        "                    epochs = 30,\n",
        "                    batch_size = 128,\n",
        "                    validation_data = (X_val,y_val))"
      ],
      "execution_count": null,
      "outputs": [
        {
          "output_type": "stream",
          "name": "stdout",
          "text": [
            "Epoch 1/30\n",
            "329/329 [==============================] - 2s 4ms/step - loss: 1.8336 - acc: 0.4294 - val_loss: 1.1921 - val_acc: 0.6224\n",
            "Epoch 2/30\n",
            "329/329 [==============================] - 1s 3ms/step - loss: 0.9159 - acc: 0.7169 - val_loss: 0.7499 - val_acc: 0.7687\n",
            "Epoch 3/30\n",
            "329/329 [==============================] - 1s 3ms/step - loss: 0.6707 - acc: 0.7965 - val_loss: 0.6011 - val_acc: 0.8208\n",
            "Epoch 4/30\n",
            "329/329 [==============================] - 1s 3ms/step - loss: 0.5556 - acc: 0.8359 - val_loss: 0.5130 - val_acc: 0.8509\n",
            "Epoch 5/30\n",
            "329/329 [==============================] - 1s 3ms/step - loss: 0.4843 - acc: 0.8596 - val_loss: 0.4573 - val_acc: 0.8684\n",
            "Epoch 6/30\n",
            "329/329 [==============================] - 1s 3ms/step - loss: 0.4378 - acc: 0.8741 - val_loss: 0.4184 - val_acc: 0.8802\n",
            "Epoch 7/30\n",
            "329/329 [==============================] - 1s 3ms/step - loss: 0.4064 - acc: 0.8838 - val_loss: 0.3937 - val_acc: 0.8862\n",
            "Epoch 8/30\n",
            "329/329 [==============================] - 1s 3ms/step - loss: 0.3838 - acc: 0.8899 - val_loss: 0.3729 - val_acc: 0.8934\n",
            "Epoch 9/30\n",
            "329/329 [==============================] - 1s 3ms/step - loss: 0.3653 - acc: 0.8964 - val_loss: 0.3582 - val_acc: 0.8964\n",
            "Epoch 10/30\n",
            "329/329 [==============================] - 1s 3ms/step - loss: 0.3502 - acc: 0.9001 - val_loss: 0.3467 - val_acc: 0.9009\n",
            "Epoch 11/30\n",
            "329/329 [==============================] - 1s 3ms/step - loss: 0.3378 - acc: 0.9035 - val_loss: 0.3340 - val_acc: 0.9041\n",
            "Epoch 12/30\n",
            "329/329 [==============================] - 1s 3ms/step - loss: 0.3268 - acc: 0.9063 - val_loss: 0.3269 - val_acc: 0.9058\n",
            "Epoch 13/30\n",
            "329/329 [==============================] - 1s 3ms/step - loss: 0.3164 - acc: 0.9093 - val_loss: 0.3166 - val_acc: 0.9087\n",
            "Epoch 14/30\n",
            "329/329 [==============================] - 1s 3ms/step - loss: 0.3072 - acc: 0.9119 - val_loss: 0.3094 - val_acc: 0.9102\n",
            "Epoch 15/30\n",
            "329/329 [==============================] - 1s 3ms/step - loss: 0.2985 - acc: 0.9135 - val_loss: 0.3030 - val_acc: 0.9140\n",
            "Epoch 16/30\n",
            "329/329 [==============================] - 1s 3ms/step - loss: 0.2905 - acc: 0.9167 - val_loss: 0.2946 - val_acc: 0.9163\n",
            "Epoch 17/30\n",
            "329/329 [==============================] - 1s 3ms/step - loss: 0.2827 - acc: 0.9178 - val_loss: 0.2868 - val_acc: 0.9172\n",
            "Epoch 18/30\n",
            "329/329 [==============================] - 1s 3ms/step - loss: 0.2756 - acc: 0.9205 - val_loss: 0.2808 - val_acc: 0.9196\n",
            "Epoch 19/30\n",
            "329/329 [==============================] - 1s 3ms/step - loss: 0.2688 - acc: 0.9217 - val_loss: 0.2801 - val_acc: 0.9208\n",
            "Epoch 20/30\n",
            "329/329 [==============================] - 1s 3ms/step - loss: 0.2627 - acc: 0.9248 - val_loss: 0.2702 - val_acc: 0.9231\n",
            "Epoch 21/30\n",
            "329/329 [==============================] - 1s 3ms/step - loss: 0.2560 - acc: 0.9268 - val_loss: 0.2649 - val_acc: 0.9237\n",
            "Epoch 22/30\n",
            "329/329 [==============================] - 1s 3ms/step - loss: 0.2497 - acc: 0.9285 - val_loss: 0.2594 - val_acc: 0.9259\n",
            "Epoch 23/30\n",
            "329/329 [==============================] - 1s 3ms/step - loss: 0.2448 - acc: 0.9294 - val_loss: 0.2543 - val_acc: 0.9262\n",
            "Epoch 24/30\n",
            "329/329 [==============================] - 1s 3ms/step - loss: 0.2391 - acc: 0.9306 - val_loss: 0.2494 - val_acc: 0.9293\n",
            "Epoch 25/30\n",
            "329/329 [==============================] - 1s 3ms/step - loss: 0.2336 - acc: 0.9330 - val_loss: 0.2472 - val_acc: 0.9297\n",
            "Epoch 26/30\n",
            "329/329 [==============================] - 1s 3ms/step - loss: 0.2281 - acc: 0.9340 - val_loss: 0.2409 - val_acc: 0.9311\n",
            "Epoch 27/30\n",
            "329/329 [==============================] - 1s 3ms/step - loss: 0.2238 - acc: 0.9357 - val_loss: 0.2380 - val_acc: 0.9313\n",
            "Epoch 28/30\n",
            "329/329 [==============================] - 1s 3ms/step - loss: 0.2184 - acc: 0.9363 - val_loss: 0.2340 - val_acc: 0.9332\n",
            "Epoch 29/30\n",
            "329/329 [==============================] - 1s 3ms/step - loss: 0.2138 - acc: 0.9386 - val_loss: 0.2317 - val_acc: 0.9338\n",
            "Epoch 30/30\n",
            "329/329 [==============================] - 1s 3ms/step - loss: 0.2106 - acc: 0.9396 - val_loss: 0.2254 - val_acc: 0.9357\n"
          ]
        }
      ]
    },
    {
      "cell_type": "code",
      "metadata": {
        "colab": {
          "base_uri": "https://localhost:8080/"
        },
        "id": "RiAmcgEZXp3q",
        "outputId": "22e6608a-42be-4c3f-f71f-8998cc08aaef"
      },
      "source": [
        "history.history.keys()"
      ],
      "execution_count": null,
      "outputs": [
        {
          "output_type": "execute_result",
          "data": {
            "text/plain": [
              "dict_keys(['loss', 'acc', 'val_loss', 'val_acc'])"
            ]
          },
          "metadata": {},
          "execution_count": 14
        }
      ]
    },
    {
      "cell_type": "code",
      "metadata": {
        "colab": {
          "base_uri": "https://localhost:8080/"
        },
        "id": "dpHjqjxkXr1E",
        "outputId": "c1547b44-c77d-401a-ceca-8039d654618e"
      },
      "source": [
        "#학습결과 그려보기\n",
        "import matplotlib.pyplot as plt\n",
        "\n",
        "his_dict = history.history\n",
        "loss = his_dict['loss']\n",
        "val_loss = his_dict['val_loss'] # 검증 데이터가 있는 경우 val_ 수식어가 붙는다.\n",
        "\n",
        "epochs = range(1,len(loss)+1 )\n",
        "fig = plt.figure(figsize= (10,5) )\n",
        "\n",
        "# 학습 및 검증 손실 그리기\n",
        "\n",
        "ax1 = fig.add_subplot(1,2,1)\n",
        "ax1.plot(epochs, loss, color = 'blue', label = 'train_loss')\n",
        "ax1.plot(epochs, val_loss, color = 'orange', label = 'val_loss')\n",
        "ax1.set_title('train and val loss')\n",
        "ax1.set_xlabel('epochs')\n",
        "ax1.set_ylabel('loss')\n",
        "ax1.legend()\n",
        "\n",
        "acc = his_dict['acc']\n",
        "val_acc = his_dict['val_acc']\n",
        "\n",
        "# 학습 및 검증 정확도 그리기\n",
        "ax2 = fig.add_subplot(1,2,2)\n",
        "ax2.plot(epochs, acc, color = 'blue', label = 'train_acc')\n",
        "ax2.plot(epochs, val_acc, color = 'orange', label = 'val_acc')\n",
        "ax2.set_title('train and val acc')\n",
        "ax2.set_xlabel('epochs')\n",
        "ax2.set_ylabel('acc')\n",
        "ax2.legend()\n",
        "\n",
        "\n",
        "plt.show()"
      ],
      "execution_count": null,
      "outputs": [
        {
          "output_type": "display_data",
          "data": {
            "image/png": "[encoded data removed]",
            "text/plain": [
              "<Figure size 720x360 with 2 Axes>"
            ]
          },
          "metadata": {
            "needs_background": "light"
          }
        }
      ]
    },
    {
      "cell_type": "code",
      "metadata": {
        "colab": {
          "base_uri": "https://localhost:8080/"
        },
        "id": "n3_IlOCzXs5A",
        "outputId": "d16ba4f3-9d43-4407-8ec0-b37865aa6a75"
      },
      "source": [
        "# 모델 평가하기\n",
        "\n",
        "model.evaluate(X_test, y_test)"
      ],
      "execution_count": null,
      "outputs": [
        {
          "output_type": "stream",
          "name": "stdout",
          "text": [
            "313/313 [==============================] - 1s 2ms/step - loss: 0.2221 - acc: 0.9353\n"
          ]
        },
        {
          "output_type": "execute_result",
          "data": {
            "text/plain": [
              "[0.22208967804908752, 0.9352999925613403]"
            ]
          },
          "metadata": {},
          "execution_count": 16
        }
      ]
    },
    {
      "cell_type": "code",
      "metadata": {
        "colab": {
          "base_uri": "https://localhost:8080/"
        },
        "id": "fKSdhYJSXupu",
        "outputId": "72108d7e-2029-49c8-e3db-8cb93c6b93d4"
      },
      "source": [
        "import numpy as np\n",
        "\n",
        "results = model.predict(X_test)\n",
        "print(results.shape)\n",
        "np.set_printoptions(precision=7)\n",
        "print(f'각 클래스에 속할 확률 :  {results[0]}')"
      ],
      "execution_count": null,
      "outputs": [
        {
          "output_type": "stream",
          "name": "stdout",
          "text": [
            "(10000, 10)\n",
            "각 클래스에 속할 확률 :  [2.7416940e-05 3.9857522e-09 1.3079989e-04 4.4309464e-03 3.5478646e-08\n",
            " 5.4792294e-05 7.2196323e-13 9.9517101e-01 5.8145897e-06 1.7919090e-04]\n"
          ]
        }
      ]
    },
    {
      "cell_type": "code",
      "metadata": {
        "colab": {
          "base_uri": "https://localhost:8080/"
        },
        "id": "CF2mvCdfXv3l",
        "outputId": "487eff67-48b8-421f-d571-2751121476a3"
      },
      "source": [
        "import matplotlib.pyplot as plt\n",
        "\n",
        "arg_results = np.argmax(results, axis = -1) #  가장 큰 값의 인덱스를 가져옴\n",
        "plt.imshow(X_test[0].reshape(28, 28))\n",
        "plt.title('Predicted value of the first image : ' +str(arg_results[0]))\n",
        "plt.show()"
      ],
      "execution_count": null,
      "outputs": [
        {
          "output_type": "display_data",
          "data": {
            "image/png": "[encoded data removed]",
            "text/plain": [
              "<Figure size 432x288 with 1 Axes>"
            ]
          },
          "metadata": {
            "needs_background": "light"
          }
        }
      ]
    },
    {
      "cell_type": "code",
      "metadata": {
        "colab": {
          "base_uri": "https://localhost:8080/",
          "height": 442
        },
        "id": "5MN-cYHJXwzD",
        "outputId": "eb251e33-7133-4e06-cae1-98d401ac8d61"
      },
      "source": [
        "#모델 평가 방법 1 -> 혼동행렬\n",
        "\n",
        "#sklearn.metrics 모듈을 여러 가지 평가지표에 관한 기능을 제공함.\n",
        "\n",
        "from sklearn.metrics import classification_report, confusion_matrix\n",
        "import matplotlib.pyplot as plt\n",
        "import seaborn as sns\n",
        "\n",
        "#혼동행렬을 만듬.->one-hot encoding\n",
        "plt.figure(figsize = (7,7))\n",
        "cm = confusion_matrix(np.argmax(y_test, axis = -1), np.argmax(results, axis = -1))\n",
        "sns.heatmap(cm, annot = True, fmt = 'd', cmap = 'Blues')\n",
        "plt.xlabel('predicted label')\n",
        "plt.ylabel('true label')\n",
        "plt.show()"
      ],
      "execution_count": null,
      "outputs": [
        {
          "output_type": "display_data",
          "data": {
            "image/png": "[encoded data removed]",
            "text/plain": [
              "<Figure size 504x504 with 2 Axes>"
            ]
          },
          "metadata": {
            "needs_background": "light"
          }
        }
      ]
    },
    {
      "cell_type": "code",
      "metadata": {
        "colab": {
          "base_uri": "https://localhost:8080/"
        },
        "id": "l7r8ZPuRXx6k",
        "outputId": "d5bc78e1-14ce-480d-b22c-fc33f7e7aef7"
      },
      "source": [
        "#분류 보고서\n",
        "print('\\n', classification_report(np.argmax(y_test, axis = -1), np.argmax(results, axis = -1)))"
      ],
      "execution_count": null,
      "outputs": [
        {
          "output_type": "stream",
          "name": "stdout",
          "text": [
            "\n",
            "               precision    recall  f1-score   support\n",
            "\n",
            "           0       0.95      0.98      0.96       980\n",
            "           1       0.97      0.97      0.97      1135\n",
            "           2       0.94      0.92      0.93      1032\n",
            "           3       0.92      0.92      0.92      1010\n",
            "           4       0.92      0.95      0.93       982\n",
            "           5       0.92      0.90      0.91       892\n",
            "           6       0.95      0.96      0.95       958\n",
            "           7       0.95      0.94      0.94      1028\n",
            "           8       0.90      0.89      0.90       974\n",
            "           9       0.93      0.92      0.92      1009\n",
            "\n",
            "    accuracy                           0.94     10000\n",
            "   macro avg       0.93      0.93      0.93     10000\n",
            "weighted avg       0.94      0.94      0.94     10000\n",
            "\n"
          ]
        }
      ]
    },
    {
      "cell_type": "markdown",
      "metadata": {
        "id": "x7firJh-X_Vo"
      },
      "source": [
        "## HW) Fashion MNIST에서도 동일하게 해보자.\n",
        "\n",
        "10개의 범주(category)와 70,000개의 흑백 이미지로 구성된 패션 MNIST 데이터셋을 사용하겠습니다. 이미지는 해상도(28x28 픽셀)가 낮고 다음처럼 개별 옷 품목을 나타냅니다:\n",
        "\n",
        "패션 MNIST는 컴퓨터 비전 분야의 \"Hello, World\" 프로그램격인 고전 MNIST 데이터셋을 대신해서 자주 사용됩니다. MNIST 데이터셋은 손글씨 숫자(0, 1, 2 등)의 이미지로 이루어져 있습니다. 여기서 사용하려는 옷 이미지와 동일한 포맷입니다.\n",
        "\n",
        "패션 MNIST는 일반적인 MNIST 보다 조금 더 어려운 문제이고 다양한 예제를 만들기 위해 선택했습니다. 두 데이터셋은 비교적 작기 때문에 알고리즘의 작동 여부를 확인하기 위해 사용되곤 합니다. 코드를 테스트하고 디버깅하는 용도로 좋습니다.\n",
        "\n",
        "네트워크를 훈련하는데 60,000개의 이미지를 사용합니다. 그다음 네트워크가 얼마나 정확하게 이미지를 분류하는지 10,000개의 이미지로 평가하겠습니다. 패션 MNIST 데이터셋은 텐서플로에서 바로 임포트하여 적재할 수 있습니다:"
      ]
    },
    {
      "cell_type": "code",
      "metadata": {
        "id": "bYklUtTPX0Kw"
      },
      "source": [
        "import tensorflow as tf\n",
        "import numpy as np\n",
        "import matplotlib.pyplot as plt\n",
        "from tensorflow import keras"
      ],
      "execution_count": 1,
      "outputs": []
    },
    {
      "cell_type": "code",
      "metadata": {
        "id": "GILlckIiYTrD",
        "colab": {
          "base_uri": "https://localhost:8080/"
        },
        "outputId": "4479652d-0371-4a7a-de93-7cf2bdec1eb0"
      },
      "source": [
        "fashion_mnist = keras.datasets.fashion_mnist\n",
        "\n",
        "(train_images, train_labels), (test_images, test_labels) = fashion_mnist.load_data()"
      ],
      "execution_count": 2,
      "outputs": [
        {
          "output_type": "stream",
          "name": "stdout",
          "text": [
            "Downloading data from https://storage.googleapis.com/tensorflow/tf-keras-datasets/train-labels-idx1-ubyte.gz\n",
            "32768/29515 [=================================] - 0s 0us/step\n",
            "40960/29515 [=========================================] - 0s 0us/step\n",
            "Downloading data from https://storage.googleapis.com/tensorflow/tf-keras-datasets/train-images-idx3-ubyte.gz\n",
            "26427392/26421880 [==============================] - 0s 0us/step\n",
            "26435584/26421880 [==============================] - 0s 0us/step\n",
            "Downloading data from https://storage.googleapis.com/tensorflow/tf-keras-datasets/t10k-labels-idx1-ubyte.gz\n",
            "16384/5148 [===============================================================================================] - 0s 0us/step\n",
            "Downloading data from https://storage.googleapis.com/tensorflow/tf-keras-datasets/t10k-images-idx3-ubyte.gz\n",
            "4423680/4422102 [==============================] - 0s 0us/step\n",
            "4431872/4422102 [==============================] - 0s 0us/step\n"
          ]
        }
      ]
    },
    {
      "cell_type": "code",
      "metadata": {
        "id": "AgjZQJq9YU7I"
      },
      "source": [
        "class_names = ['T-shirt/top', 'Trouser', 'Pullover', 'Dress', 'Coat',\n",
        "               'Sandal', 'Shirt', 'Sneaker', 'Bag', 'Ankle boot']"
      ],
      "execution_count": 3,
      "outputs": []
    },
    {
      "cell_type": "code",
      "metadata": {
        "id": "JIRTNripXy4f",
        "colab": {
          "base_uri": "https://localhost:8080/"
        },
        "outputId": "600c85d5-4ec1-4952-ab45-870358aab8b0"
      },
      "source": [
        "train_images.shape, test_images.shape"
      ],
      "execution_count": 4,
      "outputs": [
        {
          "output_type": "execute_result",
          "data": {
            "text/plain": [
              "((60000, 28, 28), (10000, 28, 28))"
            ]
          },
          "metadata": {},
          "execution_count": 4
        }
      ]
    },
    {
      "cell_type": "code",
      "metadata": {
        "id": "nob1yIqnX773",
        "colab": {
          "base_uri": "https://localhost:8080/"
        },
        "outputId": "1a5e18df-7e3b-4f70-fa31-83523b93423c"
      },
      "source": [
        "train_labels"
      ],
      "execution_count": 5,
      "outputs": [
        {
          "output_type": "execute_result",
          "data": {
            "text/plain": [
              "array([9, 0, 0, ..., 3, 0, 5], dtype=uint8)"
            ]
          },
          "metadata": {},
          "execution_count": 5
        }
      ]
    },
    {
      "cell_type": "markdown",
      "metadata": {
        "id": "GPlore8lYKjB"
      },
      "source": [
        "multi-classification -> label->one hot encoding을 해야하는 것인가? or 데이터를 전처리 해야되는가?\n",
        "\n",
        "encoding->loss = 'categorical_crossentropy'\n",
        "encoding X ->loss = 'sparse_categorical_crossentropy'"
      ]
    },
    {
      "cell_type": "code",
      "metadata": {
        "id": "uuVmDnN1X_F5"
      },
      "source": [
        "#데이터 전처리\n",
        "\n",
        "train_images = train_images / 255.0\n",
        "\n",
        "test_images = test_images / 255.0"
      ],
      "execution_count": 6,
      "outputs": []
    },
    {
      "cell_type": "code",
      "metadata": {
        "id": "1r70zhF7Y60f"
      },
      "source": [
        "# 데이터 plot\n",
        "import matplotlib.pyplot as plt\n",
        "\n",
        "plt.figure(figsize = (10,10))\n",
        "for i in range(25):\n",
        "  # print(i) #i=0 subplot(5,5,0) : 불가능. 25칸이 있는데, 0번부터 찍어주세요.\n",
        "  plt.subplot(5,5,i+1) #i는 0부터 시작하기 때문에.\n",
        "  plt.xticks([])\n",
        "  plt.yticks([])\n",
        "  plt.grid(False)\n",
        "  plt.imshow(train_images[i], cmap = plt.cm.binary) #gray_scale이기 때문에.\n",
        "  plt.xlabel(class_names[train_labels[i]])\n",
        "plt.show() #전체를 누적해서 그려주세요."
      ],
      "execution_count": null,
      "outputs": []
    },
    {
      "cell_type": "code",
      "metadata": {
        "id": "LEKDFYpdZeI_"
      },
      "source": [
        "from tensorflow.keras.models import Sequential\n",
        "from tensorflow.keras.layers import Dense,Flatten\n",
        "\n",
        "model = Sequential([\n",
        "                    Flatten(input_shape = (28,28)),\n",
        "                    Dense(128, activation='relu',regul),\n",
        "                    Dense(64, activation='relu'),\n",
        "                    Dense(32, activation='relu'),\n",
        "                    Dense(16, activation='relu'),\n",
        "                    Dense(10, activation='softmax'),\n",
        "])"
      ],
      "execution_count": null,
      "outputs": []
    },
    {
      "cell_type": "code",
      "metadata": {
        "id": "BcXTTr6gcFd4"
      },
      "source": [
        "model.compile(optimizer = 'adam',\n",
        "              loss = 'sparse_categorical_crossentropy',\n",
        "              metrics = ['acc'])"
      ],
      "execution_count": null,
      "outputs": []
    },
    {
      "cell_type": "code",
      "metadata": {
        "id": "g8NdIK9Zcez2",
        "colab": {
          "base_uri": "https://localhost:8080/"
        },
        "outputId": "ba55bb0d-ccff-4d48-f82e-79f3f6bae6e4"
      },
      "source": [
        "model.fit(train_images, train_labels, epochs= 10, validation_split = 0.1)"
      ],
      "execution_count": null,
      "outputs": [
        {
          "output_type": "stream",
          "name": "stdout",
          "text": [
            "Epoch 1/10\n",
            "1688/1688 [==============================] - 5s 3ms/step - loss: 0.5587 - acc: 0.8012 - val_loss: 0.4462 - val_acc: 0.8320\n",
            "Epoch 2/10\n",
            "1688/1688 [==============================] - 4s 2ms/step - loss: 0.3884 - acc: 0.8600 - val_loss: 0.3911 - val_acc: 0.8605\n",
            "Epoch 3/10\n",
            "1688/1688 [==============================] - 4s 2ms/step - loss: 0.3522 - acc: 0.8710 - val_loss: 0.3674 - val_acc: 0.8692\n",
            "Epoch 4/10\n",
            "1688/1688 [==============================] - 4s 2ms/step - loss: 0.3271 - acc: 0.8800 - val_loss: 0.3402 - val_acc: 0.8772\n",
            "Epoch 5/10\n",
            "1688/1688 [==============================] - 4s 2ms/step - loss: 0.3104 - acc: 0.8859 - val_loss: 0.3456 - val_acc: 0.8757\n",
            "Epoch 6/10\n",
            "1688/1688 [==============================] - 4s 2ms/step - loss: 0.2898 - acc: 0.8924 - val_loss: 0.3416 - val_acc: 0.8782\n",
            "Epoch 7/10\n",
            "1688/1688 [==============================] - 4s 2ms/step - loss: 0.2787 - acc: 0.8970 - val_loss: 0.3335 - val_acc: 0.8840\n",
            "Epoch 8/10\n",
            "1688/1688 [==============================] - 4s 2ms/step - loss: 0.2682 - acc: 0.9012 - val_loss: 0.3192 - val_acc: 0.8867\n",
            "Epoch 9/10\n",
            "1688/1688 [==============================] - 4s 2ms/step - loss: 0.2592 - acc: 0.9039 - val_loss: 0.3353 - val_acc: 0.8817\n",
            "Epoch 10/10\n",
            "1688/1688 [==============================] - 4s 2ms/step - loss: 0.2499 - acc: 0.9072 - val_loss: 0.3265 - val_acc: 0.8848\n"
          ]
        },
        {
          "output_type": "execute_result",
          "data": {
            "text/plain": [
              "<keras.callbacks.History at 0x7fa504664990>"
            ]
          },
          "metadata": {},
          "execution_count": 30
        }
      ]
    },
    {
      "cell_type": "markdown",
      "metadata": {
        "id": "Ay4H4XkXe_7g"
      },
      "source": [
        "# 정확도 평가"
      ]
    },
    {
      "cell_type": "code",
      "metadata": {
        "colab": {
          "base_uri": "https://localhost:8080/"
        },
        "id": "odoI_jCSeRt3",
        "outputId": "1e6cb093-f42a-49a0-bf64-3c8e9f5ef951"
      },
      "source": [
        "test_loss, test_acc = model.evaluate(test_images, test_labels,verbose = 2) # verbose = 0 아무것도 안보임\n",
        "# verbose = 1 progress bar / verbose :2 결과만"
      ],
      "execution_count": null,
      "outputs": [
        {
          "output_type": "stream",
          "name": "stdout",
          "text": [
            "313/313 - 0s - loss: 0.3576 - acc: 0.8809\n"
          ]
        }
      ]
    },
    {
      "cell_type": "code",
      "metadata": {
        "id": "erOH1hfFfPio"
      },
      "source": [
        "predictions = model.predict(test_images)"
      ],
      "execution_count": null,
      "outputs": []
    },
    {
      "cell_type": "code",
      "metadata": {
        "colab": {
          "base_uri": "https://localhost:8080/"
        },
        "id": "l1lo0ykhfUNE",
        "outputId": "0c7a9fab-371a-4d91-b8fc-baad0df718c5"
      },
      "source": [
        "predictions[0]"
      ],
      "execution_count": null,
      "outputs": [
        {
          "output_type": "execute_result",
          "data": {
            "text/plain": [
              "array([8.3612367e-06, 6.0381701e-08, 1.8790415e-06, 1.1934914e-05,\n",
              "       3.0719345e-06, 2.5950270e-03, 7.0130168e-06, 1.6421953e-02,\n",
              "       3.4412780e-05, 9.8091632e-01], dtype=float32)"
            ]
          },
          "metadata": {},
          "execution_count": 33
        }
      ]
    },
    {
      "cell_type": "code",
      "metadata": {
        "colab": {
          "base_uri": "https://localhost:8080/"
        },
        "id": "bjmWegOofWDT",
        "outputId": "90e326f9-c0d3-4007-a7e2-72635eaeacba"
      },
      "source": [
        "np.argmax(predictions[0])"
      ],
      "execution_count": null,
      "outputs": [
        {
          "output_type": "execute_result",
          "data": {
            "text/plain": [
              "9"
            ]
          },
          "metadata": {},
          "execution_count": 34
        }
      ]
    },
    {
      "cell_type": "code",
      "metadata": {
        "colab": {
          "base_uri": "https://localhost:8080/"
        },
        "id": "9TNiEwt4fW88",
        "outputId": "990d282f-1578-4ea1-8dbd-08c22cd1d0e8"
      },
      "source": [
        "test_labels[0]"
      ],
      "execution_count": null,
      "outputs": [
        {
          "output_type": "execute_result",
          "data": {
            "text/plain": [
              "9"
            ]
          },
          "metadata": {},
          "execution_count": 35
        }
      ]
    },
    {
      "cell_type": "code",
      "metadata": {
        "id": "l7S7w5W0fX1O"
      },
      "source": [
        "def plot_image(i, predictions_array, true_label, img):\n",
        "  #image내에 array : pixel을 가져 오는 것 img : 실제 이미지이고, predictions_array->예측 한것 (데이터로 부터)\n",
        "  predictions_array, true_label, img = predictions_array[i], true_label[i], img[i]\n",
        "  plt.grid(False)\n",
        "  plt.xticks([])\n",
        "  plt.yticks([])\n",
        "\n",
        "  plt.imshow(img, cmap=plt.cm.binary) #gray_scale\n",
        "\n",
        "  predicted_label = np.argmax(predictions_array) \n",
        "  #predictions_array->예측 한것 (데이터로 부터)->최대인 label을 뽑아주세요.\n",
        "  if predicted_label == true_label: #예측한 라벨 == 실제 라벨\n",
        "    color = 'blue'\n",
        "  else:\n",
        "    color = 'red'\n",
        "\n",
        "  plt.xlabel(\"{} {:2.0f}% ({})\".format(class_names[predicted_label],\n",
        "                                100*np.max(predictions_array),\n",
        "                                class_names[true_label]),\n",
        "                                color=color)\n",
        "\n",
        "def plot_value_array(i, predictions_array, true_label):\n",
        "  predictions_array, true_label = predictions_array[i], true_label[i]\n",
        "  plt.grid(False)\n",
        "  plt.xticks([])\n",
        "  plt.yticks([])\n",
        "  thisplot = plt.bar(range(10), predictions_array, color=\"#777777\") #hex color : 색의 혼합.\n",
        "  plt.ylim([0, 1])\n",
        "  predicted_label = np.argmax(predictions_array)\n",
        "\n",
        "  thisplot[predicted_label].set_color('red')\n",
        "  thisplot[true_label].set_color('blue')"
      ],
      "execution_count": null,
      "outputs": []
    },
    {
      "cell_type": "code",
      "metadata": {
        "colab": {
          "base_uri": "https://localhost:8080/"
        },
        "id": "T_H_hEoTfaGq",
        "outputId": "47782e4e-3ebc-4d20-cc06-7204ddd5cc90"
      },
      "source": [
        "i = 0\n",
        "plt.figure(figsize=(6,3))\n",
        "plt.subplot(1,2,1)\n",
        "plot_image(i, predictions, test_labels, test_images)\n",
        "plt.subplot(1,2,2)\n",
        "plot_value_array(i, predictions,  test_labels)\n",
        "plt.show()"
      ],
      "execution_count": null,
      "outputs": [
        {
          "output_type": "display_data",
          "data": {
            "image/png": "[encoded data removed]",
            "text/plain": [
              "<Figure size 432x216 with 2 Axes>"
            ]
          },
          "metadata": {}
        }
      ]
    },
    {
      "cell_type": "code",
      "metadata": {
        "colab": {
          "base_uri": "https://localhost:8080/"
        },
        "id": "NABZXpoIfb2r",
        "outputId": "d7b41e33-9ade-4389-e8ef-fd799cc63d38"
      },
      "source": [
        "i = 12\n",
        "plt.figure(figsize=(6,3))\n",
        "plt.subplot(1,2,1)\n",
        "plot_image(i, predictions, test_labels, test_images)\n",
        "plt.subplot(1,2,2)\n",
        "plot_value_array(i, predictions,  test_labels)\n",
        "plt.show()"
      ],
      "execution_count": null,
      "outputs": [
        {
          "output_type": "display_data",
          "data": {
            "image/png": "[encoded data removed]",
            "text/plain": [
              "<Figure size 432x216 with 2 Axes>"
            ]
          },
          "metadata": {}
        }
      ]
    },
    {
      "cell_type": "code",
      "metadata": {
        "id": "MSk1JqHmfeBm",
        "colab": {
          "base_uri": "https://localhost:8080/",
          "height": 589
        },
        "outputId": "38ee0df7-bfe7-40b0-b2d6-41cff62c6f6c"
      },
      "source": [
        "# 처음 X 개의 테스트 이미지와 예측 레이블, 진짜 레이블을 출력합니다\n",
        "# 올바른 예측은 파랑색으로 잘못된 예측은 빨강색으로 나타냅니다\n",
        "num_rows = 5\n",
        "num_cols = 3\n",
        "num_images = num_rows*num_cols\n",
        "#plt.figure(figsize = (10,10))\n",
        "plt.figure(figsize=(2*2*num_cols, 2*num_rows))\n",
        "for i in range(num_images):\n",
        "  plt.subplot(num_rows, 2*num_cols, 2*i+1) #i=0부터 출발하니깐, i+1\n",
        "  plot_image(i, predictions, test_labels, test_images)\n",
        "  plt.subplot(num_rows, 2*num_cols, 2*i+2) # 그 옆에 hist를 그려주세요.\n",
        "  plot_value_array(i, predictions, test_labels)\n",
        "plt.show()"
      ],
      "execution_count": null,
      "outputs": [
        {
          "output_type": "display_data",
          "data": {
            "image/png": "[encoded data removed]",
            "text/plain": [
              "<Figure size 864x720 with 30 Axes>"
            ]
          },
          "metadata": {}
        }
      ]
    },
    {
      "cell_type": "code",
      "metadata": {
        "colab": {
          "base_uri": "https://localhost:8080/"
        },
        "id": "Um3azVDCfgKi",
        "outputId": "0d67a21a-af46-4522-b26f-5e57dcf7dc8c"
      },
      "source": [
        "# 테스트 세트에서 이미지 하나를 선택합니다\n",
        "img = test_images[0]\n",
        "\n",
        "print(img.shape)"
      ],
      "execution_count": null,
      "outputs": [
        {
          "output_type": "stream",
          "name": "stdout",
          "text": [
            "(28, 28)\n"
          ]
        }
      ]
    },
    {
      "cell_type": "code",
      "metadata": {
        "colab": {
          "base_uri": "https://localhost:8080/"
        },
        "id": "nMc7h_jrfkXZ",
        "outputId": "e105893b-de42-4e47-8c0b-0a4216f47756"
      },
      "source": [
        "# 이미지 하나만 사용할 때도 배치에 추가합니다\n",
        "img = (np.expand_dims(img,0))\n",
        "\n",
        "print(img.shape)"
      ],
      "execution_count": null,
      "outputs": [
        {
          "output_type": "stream",
          "name": "stdout",
          "text": [
            "(1, 28, 28)\n"
          ]
        }
      ]
    },
    {
      "cell_type": "code",
      "metadata": {
        "colab": {
          "base_uri": "https://localhost:8080/"
        },
        "id": "SF-Lk4EIfl2U",
        "outputId": "0bfa564f-90e6-40e4-e320-41790474dcb7"
      },
      "source": [
        "predictions_single = model.predict(img)\n",
        "\n",
        "print(predictions_single)"
      ],
      "execution_count": null,
      "outputs": [
        {
          "output_type": "stream",
          "name": "stdout",
          "text": [
            "[[8.3612449e-06 6.0381822e-08 1.8790433e-06 1.1934936e-05 3.0719402e-06\n",
            "  2.5950293e-03 7.0130300e-06 1.6421963e-02 3.4412813e-05 9.8091632e-01]]\n"
          ]
        }
      ]
    },
    {
      "cell_type": "code",
      "metadata": {
        "colab": {
          "base_uri": "https://localhost:8080/",
          "height": 300
        },
        "id": "yG1CM6swfnIy",
        "outputId": "957dec9b-fb03-4c44-b9a8-610ae2846b5c"
      },
      "source": [
        "plot_value_array(0, predictions_single, test_labels)\n",
        "_ = plt.xticks(range(10), class_names, rotation=45)"
      ],
      "execution_count": null,
      "outputs": [
        {
          "output_type": "display_data",
          "data": {
            "image/png": "[encoded data removed]",
            "text/plain": [
              "<Figure size 432x288 with 1 Axes>"
            ]
          },
          "metadata": {
            "needs_background": "light"
          }
        }
      ]
    },
    {
      "cell_type": "code",
      "metadata": {
        "id": "ldw-L4c4foh3"
      },
      "source": [
        ""
      ],
      "execution_count": null,
      "outputs": []
    }
  ]
}